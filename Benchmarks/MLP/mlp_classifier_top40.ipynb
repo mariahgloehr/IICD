{
 "cells": [
  {
   "cell_type": "code",
   "execution_count": 1,
   "id": "0a0c3d7a",
   "metadata": {},
   "outputs": [],
   "source": [
    "import pandas as pd\n",
    "from sklearn.model_selection import train_test_split, GridSearchCV\n",
    "from sklearn.neural_network import MLPClassifier\n",
    "from sklearn.metrics import accuracy_score, confusion_matrix"
   ]
  },
  {
   "cell_type": "code",
   "execution_count": 2,
   "id": "73d6e52f",
   "metadata": {},
   "outputs": [],
   "source": [
    "# Load data\n",
    "df = pd.read_csv(\"/Users/mariahloehr/IICD/IICD/Data/top40_cell_cycle.csv\")\n",
    "\n",
    "# Combine phase M and G2 into one class\n",
    "df['phase'] = df['phase'].replace({'M': 'G2'})\n",
    "\n",
    "# Separate features and target\n",
    "X = df.drop(columns=['phase', 'age'])\n",
    "y = df['phase']\n",
    "\n",
    "# Split data\n",
    "X_train, X_test, y_train, y_test = train_test_split(X, y, test_size=0.2, random_state=949, stratify=y)"
   ]
  },
  {
   "cell_type": "code",
   "execution_count": 3,
   "id": "2f0e8650",
   "metadata": {},
   "outputs": [],
   "source": [
    "# Define MLP model\n",
    "mlp = MLPClassifier(max_iter=1000, random_state=949)"
   ]
  },
  {
   "cell_type": "code",
   "execution_count": 4,
   "id": "67af2f19",
   "metadata": {},
   "outputs": [
    {
     "name": "stdout",
     "output_type": "stream",
     "text": [
      "Best parameters: {'hidden_layer_sizes': (300,)}\n"
     ]
    }
   ],
   "source": [
    "# Hyperparameter tuning\n",
    "param_grid = {\n",
    "    'hidden_layer_sizes': [\n",
    "        (150,),\n",
    "        (300,),         # 1 hidden layer\n",
    "        (500,),        # 1 hidden layer\n",
    "        (50,),        # 1 hidden layer\n",
    "        (300, 150),     # 2 hidden layers\n",
    "        (150, 75),     # 2 hidden layers\n",
    "        (300, 150, 75), # 3 hidden layers\n",
    "        (300,300,300)   # 3 hidden layers\n",
    "    ]\n",
    "}\n",
    "\n",
    "grid_search = GridSearchCV(\n",
    "    estimator=mlp,\n",
    "    param_grid=param_grid,\n",
    "    cv=10,\n",
    "    scoring='accuracy',\n",
    "    n_jobs=-1\n",
    ")\n",
    "\n",
    "# Fit model\n",
    "grid_search.fit(X_train, y_train)\n",
    "\n",
    "# Output best params and accuracy\n",
    "print(\"Best parameters:\", grid_search.best_params_)"
   ]
  },
  {
   "cell_type": "code",
   "execution_count": 7,
   "id": "0a34a8df",
   "metadata": {},
   "outputs": [
    {
     "name": "stdout",
     "output_type": "stream",
     "text": [
      "  param_hidden_layer_sizes  mean_test_score  std_test_score  rank_test_score\n",
      "2                   (300,)         0.962429        0.006131                1\n",
      "5               (300, 150)         0.961158        0.005479                2\n",
      "1                   (150,)         0.961017        0.005100                3\n",
      "3                   (500,)         0.960734        0.004590                4\n",
      "8          (300, 300, 300)         0.960593        0.004829                5\n",
      "7           (300, 150, 75)         0.958051        0.005172                6\n",
      "6                (150, 75)         0.957627        0.006091                7\n",
      "0                    (50,)         0.957062        0.006448                8\n",
      "4                    (50,)         0.957062        0.006448                8\n"
     ]
    }
   ],
   "source": [
    "# Convert the cv_results_ dictionary to a DataFrame\n",
    "results_df = pd.DataFrame(grid_search.cv_results_)\n",
    "\n",
    "# Select and display relevant columns\n",
    "print(\n",
    "    results_df[\n",
    "        [\n",
    "            'param_hidden_layer_sizes',\n",
    "            'mean_test_score',\n",
    "            'std_test_score',\n",
    "            'rank_test_score'\n",
    "        ]\n",
    "    ].sort_values(by='rank_test_score')\n",
    ")"
   ]
  },
  {
   "cell_type": "code",
   "execution_count": 5,
   "id": "70b7b107",
   "metadata": {},
   "outputs": [],
   "source": [
    "# Retrain with best parameters\n",
    "best_mlp = grid_search.best_estimator_\n",
    "best_mlp.fit(X_train, y_train)\n",
    "\n",
    "# Predictions\n",
    "y_train_pred = best_mlp.predict(X_train)\n",
    "y_test_pred = best_mlp.predict(X_test)"
   ]
  },
  {
   "cell_type": "code",
   "execution_count": 9,
   "id": "625c2bdb",
   "metadata": {},
   "outputs": [
    {
     "name": "stdout",
     "output_type": "stream",
     "text": [
      "=== Training Set ===\n",
      "Overall Accuracy: 1.0\n",
      "\n",
      "=== Test Set ===\n",
      "Overall Accuracy: 0.9649717514124294\n",
      "\n",
      "Accuracy per phase (Train):\n",
      "true\n",
      "G0    1.0\n",
      "G1    1.0\n",
      "G2    1.0\n",
      "S     1.0\n",
      "dtype: float64\n",
      "\n",
      "Accuracy per phase (Test):\n",
      "true\n",
      "G0    0.983914\n",
      "G1    0.960568\n",
      "G2    0.957983\n",
      "S     0.960000\n",
      "dtype: float64\n",
      "\n",
      "Test Confusion Matrix\n",
      "[[367   5   1   0]\n",
      " [  7 609   4  14]\n",
      " [  0   2 228   8]\n",
      " [  0  11  10 504]]\n"
     ]
    },
    {
     "name": "stderr",
     "output_type": "stream",
     "text": [
      "/var/folders/1s/bvxr71hj0hqgyk_jk6k7wkm80000gn/T/ipykernel_20758/1068295868.py:10: FutureWarning: DataFrameGroupBy.apply operated on the grouping columns. This behavior is deprecated, and in a future version of pandas the grouping columns will be excluded from the operation. Either pass `include_groups=False` to exclude the groupings or explicitly select the grouping columns after groupby to silence this warning.\n",
      "  accuracy_per_phase_train = df_train.groupby('true').apply(lambda x: accuracy_score(x['true'], x['pred']))\n",
      "/var/folders/1s/bvxr71hj0hqgyk_jk6k7wkm80000gn/T/ipykernel_20758/1068295868.py:16: FutureWarning: DataFrameGroupBy.apply operated on the grouping columns. This behavior is deprecated, and in a future version of pandas the grouping columns will be excluded from the operation. Either pass `include_groups=False` to exclude the groupings or explicitly select the grouping columns after groupby to silence this warning.\n",
      "  accuracy_per_phase_test = df_test.groupby('true').apply(lambda x: accuracy_score(x['true'], x['pred']))\n"
     ]
    }
   ],
   "source": [
    "# Evaluation\n",
    "print(\"=== Training Set ===\")\n",
    "print(\"Overall Accuracy:\", accuracy_score(y_train, y_train_pred))\n",
    "\n",
    "print(\"\\n=== Test Set ===\")\n",
    "print(\"Overall Accuracy:\", accuracy_score(y_test, y_test_pred))\n",
    "\n",
    "# Accuracy per phase (Train)\n",
    "df_train = pd.DataFrame({'true': y_train, 'pred': y_train_pred})\n",
    "accuracy_per_phase_train = df_train.groupby('true').apply(lambda x: accuracy_score(x['true'], x['pred']))\n",
    "print(\"\\nAccuracy per phase (Train):\")\n",
    "print(accuracy_per_phase_train)\n",
    "\n",
    "# Accuracy per phase (Test)\n",
    "df_test = pd.DataFrame({'true': y_test, 'pred': y_test_pred})\n",
    "accuracy_per_phase_test = df_test.groupby('true').apply(lambda x: accuracy_score(x['true'], x['pred']))\n",
    "print(\"\\nAccuracy per phase (Test):\")\n",
    "print(accuracy_per_phase_test)\n",
    "\n",
    "# Confusion Matrix\n",
    "print(\"\\nTest Confusion Matrix\")\n",
    "print(confusion_matrix(y_test, y_test_pred, labels=[\"G0\", \"G1\", \"G2\", \"S\"]))"
   ]
  },
  {
   "cell_type": "code",
   "execution_count": 6,
   "id": "0311df74",
   "metadata": {},
   "outputs": [
    {
     "name": "stderr",
     "output_type": "stream",
     "text": [
      "/var/folders/1s/bvxr71hj0hqgyk_jk6k7wkm80000gn/T/ipykernel_44778/3038238220.py:11: FutureWarning: DataFrameGroupBy.apply operated on the grouping columns. This behavior is deprecated, and in a future version of pandas the grouping columns will be excluded from the operation. Either pass `include_groups=False` to exclude the groupings or explicitly select the grouping columns after groupby to silence this warning.\n",
      "  acc_per_phase = df_test.groupby('true').apply(lambda x: accuracy_score(x['true'], x['pred']))\n"
     ]
    }
   ],
   "source": [
    "# save results\n",
    "# === Load existing results ===\n",
    "results_df = pd.read_csv(\"/Users/mariahloehr/IICD/IICD/Bar Plot/classification_results.csv\", index_col=0)\n",
    "\n",
    "# === Compute accuracy ===\n",
    "from sklearn.metrics import accuracy_score\n",
    "\n",
    "overall_acc = accuracy_score(y_test, y_test_pred)\n",
    "\n",
    "df_test = pd.DataFrame({'true': y_test, 'pred': y_test_pred})\n",
    "acc_per_phase = df_test.groupby('true').apply(lambda x: accuracy_score(x['true'], x['pred']))\n",
    "\n",
    "# === Insert values ===\n",
    "model_name = \"MLP (top 40)\"\n",
    "results_df.loc[model_name, 'Overall'] = overall_acc\n",
    "\n",
    "# Set per-phase accuracies\n",
    "for phase in ['G0', 'G1', 'G2', 'S']:\n",
    "    if phase in acc_per_phase.index:\n",
    "        results_df.loc[model_name, phase] = acc_per_phase[phase]\n",
    "\n",
    "# === Save updated file ===\n",
    "results_df.to_csv(\"/Users/mariahloehr/IICD/IICD/Bar Plot/classification_results.csv\")"
   ]
  }
 ],
 "metadata": {
  "kernelspec": {
   "display_name": "sklearn-env",
   "language": "python",
   "name": "python3"
  },
  "language_info": {
   "codemirror_mode": {
    "name": "ipython",
    "version": 3
   },
   "file_extension": ".py",
   "mimetype": "text/x-python",
   "name": "python",
   "nbconvert_exporter": "python",
   "pygments_lexer": "ipython3",
   "version": "3.12.7"
  }
 },
 "nbformat": 4,
 "nbformat_minor": 5
}
