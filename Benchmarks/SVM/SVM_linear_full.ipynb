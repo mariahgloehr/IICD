{
 "cells": [
  {
   "cell_type": "code",
   "execution_count": 1,
   "id": "59671b1b",
   "metadata": {},
   "outputs": [],
   "source": [
    "import pandas as pd\n",
    "from sklearn.svm import SVC\n",
    "from sklearn.model_selection import train_test_split, GridSearchCV\n",
    "from sklearn.metrics import accuracy_score, classification_report, confusion_matrix, ConfusionMatrixDisplay"
   ]
  },
  {
   "cell_type": "code",
   "execution_count": 2,
   "id": "94e2c244",
   "metadata": {},
   "outputs": [],
   "source": [
    "# Load data\n",
    "df = pd.read_csv(\"/Users/mariahloehr/IICD/IICD/Data/cell_cycle_tidied.csv\")\n",
    "\n",
    "df['phase'] = df['phase'].replace({'M': 'G2'})\n",
    "\n",
    "# Separate features and target\n",
    "X = df.drop(columns=['phase', 'age', 'PHATE_1', 'PHATE_2'])  # exclude phase and age\n",
    "y = df['phase']  # target is now phase\n",
    "\n",
    "# Split data into train and test sets (80:20)\n",
    "X_train, X_test, y_train, y_test = train_test_split(X, y, test_size=0.2, random_state=949, stratify =y)"
   ]
  },
  {
   "cell_type": "code",
   "execution_count": 3,
   "id": "60a2d7e2",
   "metadata": {},
   "outputs": [],
   "source": [
    "# Define linear-kernel SVM\n",
    "svm = SVC(kernel='linear', probability=False, random_state=949)"
   ]
  },
  {
   "cell_type": "code",
   "execution_count": 4,
   "id": "abbdbc7a",
   "metadata": {},
   "outputs": [
    {
     "name": "stdout",
     "output_type": "stream",
     "text": [
      "Best parameters: {'C': 0.1}\n",
      "Best cross-validation accuracy: 0.9549435028248588\n"
     ]
    }
   ],
   "source": [
    "# Hyperparameter tuning\n",
    "param_grid = {\n",
    "    'C': [0.001, 0.01, 0.1]\n",
    "}\n",
    "\n",
    "grid_search = GridSearchCV(\n",
    "    estimator=svm,\n",
    "    param_grid=param_grid,\n",
    "    cv=10,\n",
    "    scoring='accuracy',\n",
    "    n_jobs=-1\n",
    ")\n",
    "\n",
    "# Fit the model\n",
    "grid_search.fit(X_train, y_train)\n",
    "\n",
    "# Output best settings\n",
    "print(\"Best parameters:\", grid_search.best_params_)\n",
    "print(\"Best cross-validation accuracy:\", grid_search.best_score_)"
   ]
  },
  {
   "cell_type": "code",
   "execution_count": 5,
   "id": "0d6504d0",
   "metadata": {},
   "outputs": [],
   "source": [
    "# Retrain using best params\n",
    "best_svm = grid_search.best_estimator_\n",
    "best_svm.fit(X_train, y_train)\n",
    "\n",
    "# Predict\n",
    "y_train_pred = best_svm.predict(X_train)\n",
    "y_test_pred = best_svm.predict(X_test)"
   ]
  },
  {
   "cell_type": "code",
   "execution_count": 7,
   "id": "ef0b27f8",
   "metadata": {},
   "outputs": [
    {
     "name": "stderr",
     "output_type": "stream",
     "text": [
      "/var/folders/1s/bvxr71hj0hqgyk_jk6k7wkm80000gn/T/ipykernel_44397/4091127540.py:11: FutureWarning: DataFrameGroupBy.apply operated on the grouping columns. This behavior is deprecated, and in a future version of pandas the grouping columns will be excluded from the operation. Either pass `include_groups=False` to exclude the groupings or explicitly select the grouping columns after groupby to silence this warning.\n",
      "  acc_per_phase = df_test.groupby('true').apply(lambda x: accuracy_score(x['true'], x['pred']))\n"
     ]
    }
   ],
   "source": [
    "# save results\n",
    "# === Load existing results ===\n",
    "results_df = pd.read_csv(\"/Users/mariahloehr/IICD/IICD/Bar Plot/classification_results.csv\", index_col=0)\n",
    "\n",
    "# === Compute accuracy ===\n",
    "from sklearn.metrics import accuracy_score\n",
    "\n",
    "overall_acc = accuracy_score(y_test, y_test_pred)\n",
    "\n",
    "df_test = pd.DataFrame({'true': y_test, 'pred': y_test_pred})\n",
    "acc_per_phase = df_test.groupby('true').apply(lambda x: accuracy_score(x['true'], x['pred']))\n",
    "\n",
    "# === Insert values ===\n",
    "model_name = \"SVM-lin (full)\"\n",
    "results_df.loc[model_name, 'Overall'] = overall_acc\n",
    "\n",
    "# Set per-phase accuracies\n",
    "for phase in ['G0', 'G1', 'G2', 'S']:\n",
    "    if phase in acc_per_phase.index:\n",
    "        results_df.loc[model_name, phase] = acc_per_phase[phase]\n",
    "\n",
    "# === Save updated file ===\n",
    "results_df.to_csv(\"/Users/mariahloehr/IICD/IICD/Bar Plot/classification_results.csv\")"
   ]
  },
  {
   "cell_type": "code",
   "execution_count": 9,
   "id": "32457cce",
   "metadata": {},
   "outputs": [
    {
     "name": "stdout",
     "output_type": "stream",
     "text": [
      "\n",
      "=== Training Set ===\n",
      "Overall Accuracy: 0.9840395480225989\n",
      "\n",
      "=== Test Set ===\n",
      "Overall Accuracy: 0.9559322033898305\n",
      "Accuracy per phase (Train):\n",
      "true\n",
      "G0    0.985944\n",
      "G1    0.983814\n",
      "G2    0.977941\n",
      "S     0.985721\n",
      "dtype: float64\n",
      "Accuracy per phase (Test):\n",
      "true\n",
      "G0    0.970509\n",
      "G1    0.947950\n",
      "G2    0.945378\n",
      "S     0.960000\n",
      "dtype: float64\n",
      "\n",
      "Test Confusion Matrix\n",
      "[[362   9   1   1]\n",
      " [  7 601   6  20]\n",
      " [  1   1 225  11]\n",
      " [  1   9  11 504]]\n"
     ]
    },
    {
     "name": "stderr",
     "output_type": "stream",
     "text": [
      "/var/folders/1s/bvxr71hj0hqgyk_jk6k7wkm80000gn/T/ipykernel_71984/3019480901.py:10: FutureWarning: DataFrameGroupBy.apply operated on the grouping columns. This behavior is deprecated, and in a future version of pandas the grouping columns will be excluded from the operation. Either pass `include_groups=False` to exclude the groupings or explicitly select the grouping columns after groupby to silence this warning.\n",
      "  accuracy_per_phase_train = df_train.groupby('true').apply(lambda x: accuracy_score(x['true'], x['pred']))\n",
      "/var/folders/1s/bvxr71hj0hqgyk_jk6k7wkm80000gn/T/ipykernel_71984/3019480901.py:15: FutureWarning: DataFrameGroupBy.apply operated on the grouping columns. This behavior is deprecated, and in a future version of pandas the grouping columns will be excluded from the operation. Either pass `include_groups=False` to exclude the groupings or explicitly select the grouping columns after groupby to silence this warning.\n",
      "  accuracy_per_phase_test = df_test.groupby('true').apply(lambda x: accuracy_score(x['true'], x['pred']))\n"
     ]
    }
   ],
   "source": [
    "# Output results\n",
    "print(\"\\n=== Training Set ===\")\n",
    "print(\"Overall Accuracy:\", accuracy_score(y_train, y_train_pred))\n",
    "\n",
    "print(\"\\n=== Test Set ===\")\n",
    "print(\"Overall Accuracy:\", accuracy_score(y_test, y_test_pred))\n",
    "\n",
    "# Accuracy per class\n",
    "df_train = pd.DataFrame({'true': y_train, 'pred': y_train_pred})\n",
    "accuracy_per_phase_train = df_train.groupby('true').apply(lambda x: accuracy_score(x['true'], x['pred']))\n",
    "print(\"Accuracy per phase (Train):\")\n",
    "print(accuracy_per_phase_train)\n",
    "\n",
    "df_test = pd.DataFrame({'true': y_test, 'pred': y_test_pred})\n",
    "accuracy_per_phase_test = df_test.groupby('true').apply(lambda x: accuracy_score(x['true'], x['pred']))\n",
    "print(\"Accuracy per phase (Test):\")\n",
    "print(accuracy_per_phase_test)\n",
    "\n",
    "# Confusion Matrix\n",
    "print(\"\\nTest Confusion Matrix\")\n",
    "print(confusion_matrix(y_test, y_test_pred, labels=[\"G0\", \"G1\", \"G2\", \"S\"]))"
   ]
  }
 ],
 "metadata": {
  "kernelspec": {
   "display_name": "sklearn-env",
   "language": "python",
   "name": "python3"
  },
  "language_info": {
   "codemirror_mode": {
    "name": "ipython",
    "version": 3
   },
   "file_extension": ".py",
   "mimetype": "text/x-python",
   "name": "python",
   "nbconvert_exporter": "python",
   "pygments_lexer": "ipython3",
   "version": "3.12.7"
  }
 },
 "nbformat": 4,
 "nbformat_minor": 5
}
