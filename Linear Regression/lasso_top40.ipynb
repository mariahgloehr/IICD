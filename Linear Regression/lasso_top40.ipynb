{
 "cells": [
  {
   "cell_type": "code",
   "execution_count": null,
   "id": "cb99e3b7",
   "metadata": {},
   "outputs": [],
   "source": [
    "import pandas as pd\n",
    "import numpy as np\n",
    "from sklearn.linear_model import LassoCV\n",
    "from sklearn.model_selection import train_test_split\n",
    "from sklearn.metrics import mean_squared_error, r2_score, root_mean_squared_error"
   ]
  },
  {
   "cell_type": "code",
   "execution_count": null,
   "id": "9035e6ae",
   "metadata": {},
   "outputs": [],
   "source": [
    "# Load data\n",
    "df = pd.read_csv(\"/Users/mariahloehr/IICD/IICD/Data/top40_cell_cycle.csv\")\n",
    "\n",
    "# Separate features and target\n",
    "X = df.drop(columns=['phase', 'age'])  # drop non-feature columns\n",
    "y = df['age']"
   ]
  },
  {
   "cell_type": "code",
   "execution_count": null,
   "id": "ce30b142",
   "metadata": {},
   "outputs": [],
   "source": [
    "# Train-test split (optional, if you want separate test evaluation)\n",
    "X_train, X_test, y_train, y_test = train_test_split(X, y, test_size=0.2, random_state=949)\n",
    "\n",
    "# Fit Lasso regression with 10-fold CV to select best alpha\n",
    "lasso_cv = LassoCV(alphas = (0.001, 0.01, 0.1), cv=10, random_state=949, max_iter = 10000)\n",
    "lasso_cv.fit(X_train, y_train)\n",
    "\n",
    "# Best alpha\n",
    "print(f\"Best alpha (lambda): {lasso_cv.alpha_:.5f}\")\n",
    "\n",
    "# Predict on training and test sets\n",
    "y_train_pred = lasso_cv.predict(X_train)\n",
    "y_test_pred = lasso_cv.predict(X_test)\n"
   ]
  },
  {
   "cell_type": "code",
   "execution_count": null,
   "id": "7f33e1ec",
   "metadata": {},
   "outputs": [],
   "source": [
    "# Calculate RMSE\n",
    "rmse_train = root_mean_squared_error(y_train, y_train_pred)\n",
    "rmse_test = root_mean_squared_error(y_test, y_test_pred)\n",
    "\n",
    "\n",
    "# Calculate R^2\n",
    "r2_train = r2_score(y_train, y_train_pred)\n",
    "r2_test = r2_score(y_test, y_test_pred)\n",
    "\n",
    "print(\"=== Training Set ===\")\n",
    "print(f\"RMSE: {rmse_train:.4f}\")\n",
    "print(f\"R^2: {r2_train:.4f}\")\n",
    "\n",
    "print(\"\\n=== Test Set ===\")\n",
    "print(f\"RMSE: {rmse_test:.4f}\")\n",
    "print(f\"R^2: {r2_test:.4f}\")\n",
    "\n",
    "# For training set\n",
    "df_train = pd.DataFrame({\n",
    "    'true_age': y_train,\n",
    "    'pred_age': y_train_pred,\n",
    "    'phase': df.loc[y_train.index, 'phase']  # get phase for train samples\n",
    "})\n",
    "\n",
    "rmse_per_phase_train = df_train.groupby('phase').apply(\n",
    "    lambda x: root_mean_squared_error(x['true_age'], x['pred_age'])\n",
    ")\n",
    "\n",
    "print(\"RMSE per phase (Train):\")\n",
    "print(rmse_per_phase_train)\n",
    "\n",
    "# For test set\n",
    "df_test = pd.DataFrame({\n",
    "    'true_age': y_test,\n",
    "    'pred_age': y_test_pred,\n",
    "    'phase': df.loc[y_test.index, 'phase']  # get phase for test samples\n",
    "})\n",
    "\n",
    "rmse_per_phase_test = df_test.groupby('phase').apply(\n",
    "    lambda x: root_mean_squared_error(x['true_age'], x['pred_age'])\n",
    ")\n",
    "\n",
    "print(\"\\nRMSE per phase (Test):\")\n",
    "print(rmse_per_phase_test)"
   ]
  }
 ],
 "metadata": {
  "language_info": {
   "name": "python"
  }
 },
 "nbformat": 4,
 "nbformat_minor": 5
}
