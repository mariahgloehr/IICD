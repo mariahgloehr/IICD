{
 "cells": [
  {
   "cell_type": "code",
   "execution_count": null,
   "id": "545ac558",
   "metadata": {},
   "outputs": [],
   "source": [
    "import pandas as pd\n",
    "from sklearn.linear_model import RidgeCV\n",
    "from sklearn.model_selection import train_test_split\n",
    "from sklearn.metrics import r2_score, root_mean_squared_error\n",
    "import numpy as np"
   ]
  },
  {
   "cell_type": "code",
   "execution_count": null,
   "id": "a079a30b",
   "metadata": {},
   "outputs": [],
   "source": [
    "# Load data\n",
    "df = pd.read_csv(\"/Users/mariahloehr/IICD/IICD/Data/cell_cycle_tidied.csv\")\n",
    "\n",
    "# Prepare features and target\n",
    "X = df.drop(columns=['phase', 'age', 'PHATE_1', 'PHATE_2'])  # exclude non-protein features\n",
    "y = df['age']"
   ]
  },
  {
   "cell_type": "code",
   "execution_count": null,
   "id": "ab0767ec",
   "metadata": {},
   "outputs": [],
   "source": [
    "# Split into training and testing set (optional, for evaluation)\n",
    "X_train, X_test, y_train, y_test = train_test_split(X, y, test_size=0.2, random_state=949)\n",
    "\n",
    "# Define alpha values to search (lambda equivalents)\n",
    "#alphas = np.logspace(-4, 4, 50)\n",
    "\n",
    "# Ridge Regression with 10-fold cross-validation\n",
    "ridge_cv = RidgeCV(alphas=(500.0, 600.0, 700.0), cv=10, scoring='neg_root_mean_squared_error')\n",
    "ridge_cv.fit(X_train, y_train)\n",
    "\n",
    "# Best alpha\n",
    "print(f\"Best alpha (lambda): {ridge_cv.alpha_:.5f}\")\n",
    "\n",
    "# Predict on training and test sets\n",
    "y_train_pred = ridge_cv.predict(X_train)\n",
    "y_test_pred = ridge_cv.predict(X_test)\n"
   ]
  },
  {
   "cell_type": "code",
   "execution_count": null,
   "id": "e7d41b44",
   "metadata": {},
   "outputs": [],
   "source": [
    "# Calculate RMSE\n",
    "rmse_train = root_mean_squared_error(y_train, y_train_pred)\n",
    "rmse_test = root_mean_squared_error(y_test, y_test_pred)\n",
    "\n",
    "\n",
    "# Calculate R^2\n",
    "r2_train = r2_score(y_train, y_train_pred)\n",
    "r2_test = r2_score(y_test, y_test_pred)\n",
    "\n",
    "print(\"=== Training Set ===\")\n",
    "print(f\"RMSE: {rmse_train:.4f}\")\n",
    "print(f\"R^2: {r2_train:.4f}\")\n",
    "\n",
    "print(\"\\n=== Test Set ===\")\n",
    "print(f\"RMSE: {rmse_test:.4f}\")\n",
    "print(f\"R^2: {r2_test:.4f}\")\n",
    "\n",
    "# For training set\n",
    "df_train = pd.DataFrame({\n",
    "    'true_age': y_train,\n",
    "    'pred_age': y_train_pred,\n",
    "    'phase': df.loc[y_train.index, 'phase']  # get phase for train samples\n",
    "})\n",
    "\n",
    "rmse_per_phase_train = df_train.groupby('phase').apply(\n",
    "    lambda x: root_mean_squared_error(x['true_age'], x['pred_age'])\n",
    ")\n",
    "\n",
    "print(\"RMSE per phase (Train):\")\n",
    "print(rmse_per_phase_train)\n",
    "\n",
    "# For test set\n",
    "df_test = pd.DataFrame({\n",
    "    'true_age': y_test,\n",
    "    'pred_age': y_test_pred,\n",
    "    'phase': df.loc[y_test.index, 'phase']  # get phase for test samples\n",
    "})\n",
    "\n",
    "rmse_per_phase_test = df_test.groupby('phase').apply(\n",
    "    lambda x: root_mean_squared_error(x['true_age'], x['pred_age'])\n",
    ")\n",
    "\n",
    "print(\"\\nRMSE per phase (Test):\")\n",
    "print(rmse_per_phase_test)"
   ]
  }
 ],
 "metadata": {
  "language_info": {
   "name": "python"
  }
 },
 "nbformat": 4,
 "nbformat_minor": 5
}
