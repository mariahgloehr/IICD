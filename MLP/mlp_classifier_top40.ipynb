{
 "cells": [
  {
   "cell_type": "code",
   "execution_count": null,
   "id": "0a0c3d7a",
   "metadata": {},
   "outputs": [],
   "source": [
    "import pandas as pd\n",
    "from sklearn.model_selection import train_test_split, GridSearchCV\n",
    "from sklearn.neural_network import MLPClassifier\n",
    "from sklearn.metrics import accuracy_score, classification_report, confusion_matrix, ConfusionMatrixDisplay"
   ]
  },
  {
   "cell_type": "code",
   "execution_count": null,
   "id": "73d6e52f",
   "metadata": {},
   "outputs": [],
   "source": [
    "# Load data\n",
    "df = pd.read_csv(\"/Users/mariahloehr/IICD/IICD/Data/top40_cell_cycle.csv\")\n",
    "\n",
    "# Combine phase M and G2 into one class\n",
    "df['phase'] = df['phase'].replace({'M': 'G2'})\n",
    "\n",
    "# Separate features and target\n",
    "X = df.drop(columns=['phase', 'age'])\n",
    "y = df['phase']\n",
    "\n",
    "# Split data\n",
    "X_train, X_test, y_train, y_test = train_test_split(X, y, test_size=0.2, random_state=949, stratify=y)"
   ]
  },
  {
   "cell_type": "code",
   "execution_count": null,
   "id": "2f0e8650",
   "metadata": {},
   "outputs": [],
   "source": [
    "# Define MLP model\n",
    "mlp = MLPClassifier(max_iter=1000, random_state=949)"
   ]
  },
  {
   "cell_type": "code",
   "execution_count": null,
   "id": "67af2f19",
   "metadata": {},
   "outputs": [],
   "source": [
    "# Hyperparameter tuning\n",
    "param_grid = {\n",
    "    'hidden_layer_sizes': [(100,), (100, 50), (150,)],\n",
    "    'activation': ['relu', 'tanh'],\n",
    "    'alpha': [0.0001, 0.001],  # L2 penalty\n",
    "    'learning_rate': ['constant', 'adaptive']\n",
    "}\n",
    "\n",
    "grid_search = GridSearchCV(\n",
    "    estimator=mlp,\n",
    "    param_grid=param_grid,\n",
    "    cv=10,\n",
    "    scoring='accuracy',\n",
    "    n_jobs=-1\n",
    ")\n",
    "\n",
    "# Fit model\n",
    "grid_search.fit(X_train, y_train)\n",
    "\n",
    "# Output best params and accuracy\n",
    "print(\"Best parameters:\", grid_search.best_params_)\n",
    "print(\"Best cross-validation accuracy:\", grid_search.best_score_)"
   ]
  },
  {
   "cell_type": "code",
   "execution_count": null,
   "id": "70b7b107",
   "metadata": {},
   "outputs": [],
   "source": [
    "# Retrain with best parameters\n",
    "best_mlp = grid_search.best_estimator_\n",
    "best_mlp.fit(X_train, y_train)\n",
    "\n",
    "# Predictions\n",
    "y_train_pred = best_mlp.predict(X_train)\n",
    "y_test_pred = best_mlp.predict(X_test)"
   ]
  },
  {
   "cell_type": "code",
   "execution_count": null,
   "id": "625c2bdb",
   "metadata": {},
   "outputs": [],
   "source": [
    "# Evaluation\n",
    "print(\"=== Training Set ===\")\n",
    "print(\"Overall Accuracy:\", accuracy_score(y_train, y_train_pred))\n",
    "\n",
    "print(\"\\n=== Test Set ===\")\n",
    "print(\"Overall Accuracy:\", accuracy_score(y_test, y_test_pred))\n",
    "\n",
    "# Accuracy per phase (Train)\n",
    "df_train = pd.DataFrame({'true': y_train, 'pred': y_train_pred})\n",
    "accuracy_per_phase_train = df_train.groupby('true').apply(lambda x: accuracy_score(x['true'], x['pred']))\n",
    "print(\"\\nAccuracy per phase (Train):\")\n",
    "print(accuracy_per_phase_train)\n",
    "\n",
    "# Accuracy per phase (Test)\n",
    "df_test = pd.DataFrame({'true': y_test, 'pred': y_test_pred})\n",
    "accuracy_per_phase_test = df_test.groupby('true').apply(lambda x: accuracy_score(x['true'], x['pred']))\n",
    "print(\"\\nAccuracy per phase (Test):\")\n",
    "print(accuracy_per_phase_test)\n",
    "\n",
    "# Confusion Matrix\n",
    "print(\"\\nTest Confusion Matrix\")\n",
    "print(confusion_matrix(y_test, y_test_pred, labels=[\"G0\", \"G1\", \"G2\", \"S\"]))"
   ]
  }
 ],
 "metadata": {
  "kernelspec": {
   "display_name": "sklearn-env",
   "language": "python",
   "name": "python3"
  },
  "language_info": {
   "name": "python",
   "version": "3.12.7"
  }
 },
 "nbformat": 4,
 "nbformat_minor": 5
}
