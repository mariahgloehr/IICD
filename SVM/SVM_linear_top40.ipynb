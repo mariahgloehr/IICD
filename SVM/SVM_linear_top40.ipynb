{
 "cells": [
  {
   "cell_type": "code",
   "execution_count": null,
   "id": "3b63ad9b",
   "metadata": {},
   "outputs": [],
   "source": [
    "import pandas as pd\n",
    "from sklearn.svm import SVC\n",
    "from sklearn.model_selection import train_test_split, GridSearchCV\n",
    "from sklearn.metrics import accuracy_score, classification_report, confusion_matrix, ConfusionMatrixDisplay"
   ]
  },
  {
   "cell_type": "code",
   "execution_count": null,
   "id": "4261639c",
   "metadata": {},
   "outputs": [],
   "source": [
    "# Load data\n",
    "df = pd.read_csv(\"/Users/mariahloehr/IICD/IICD/Data/top40_cell_cycle.csv\")\n",
    "\n",
    "df['phase'] = df['phase'].replace({'M': 'G2'})\n",
    "\n",
    "# Separate features and target\n",
    "X = df.drop(columns=['phase', 'age'])  # exclude phase and age\n",
    "y = df['phase']  # target is now age\n",
    "\n",
    "X_train, X_test, y_train, y_test = train_test_split(X, y, test_size=0.2, random_state=949, stratify = y)"
   ]
  }
 ],
 "metadata": {
  "language_info": {
   "name": "python"
  }
 },
 "nbformat": 4,
 "nbformat_minor": 5
}
