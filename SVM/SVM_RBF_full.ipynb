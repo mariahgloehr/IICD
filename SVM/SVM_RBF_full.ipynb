{
 "cells": [
  {
   "cell_type": "code",
   "execution_count": 2,
   "id": "f5632eda",
   "metadata": {},
   "outputs": [],
   "source": [
    "import pandas as pd\n",
    "from sklearn.svm import SVC\n",
    "from sklearn.model_selection import train_test_split, GridSearchCV\n",
    "from sklearn.metrics import accuracy_score, classification_report, confusion_matrix, ConfusionMatrixDisplay"
   ]
  },
  {
   "cell_type": "code",
   "execution_count": 12,
   "id": "f6ef8e50",
   "metadata": {},
   "outputs": [],
   "source": [
    "# Load data\n",
    "df = pd.read_csv(\"/Users/mariahloehr/IICD/IICD/Data/cell_cycle_tidied.csv\")\n",
    "\n",
    "df['phase'] = df['phase'].replace({'M': 'G2'})\n",
    "\n",
    "# Separate features and target\n",
    "X = df.drop(columns=['phase', 'age', 'PHATE_1', 'PHATE_2'])  # exclude phase and age\n",
    "y = df['phase']  # target is now phase\n",
    "\n",
    "# Split data into train and test sets (80:20)\n",
    "X_train, X_test, y_train, y_test = train_test_split(X, y, test_size=0.2, random_state=949, stratify=y)"
   ]
  },
  {
   "cell_type": "code",
   "execution_count": 13,
   "id": "028ffc46",
   "metadata": {},
   "outputs": [],
   "source": [
    "# Define RBF-kernel SVM\n",
    "svm = SVC(kernel='rbf', probability=False, random_state=949)"
   ]
  },
  {
   "cell_type": "code",
   "execution_count": 18,
   "id": "ddb8287c",
   "metadata": {},
   "outputs": [
    {
     "name": "stdout",
     "output_type": "stream",
     "text": [
      "Best parameters: {'C': 300, 'gamma': 0.0001}\n",
      "Best cross-validation accuracy: 0.9556497175141242\n"
     ]
    }
   ],
   "source": [
    "# Hyperparameter tuning\n",
    "param_grid = {\n",
    "    'C': [200, 300, 400],\n",
    "    'gamma': [0.0001, 0.00001]\n",
    "}\n",
    "\n",
    "grid_search = GridSearchCV(\n",
    "    estimator=svm,\n",
    "    param_grid=param_grid,\n",
    "    cv=10,\n",
    "    scoring='accuracy',\n",
    "    n_jobs=-1\n",
    ")\n",
    "\n",
    "# Fit the model\n",
    "grid_search.fit(X_train, y_train)\n",
    "\n",
    "# Output best settings\n",
    "print(\"Best parameters:\", grid_search.best_params_)\n",
    "print(\"Best cross-validation accuracy:\", grid_search.best_score_)"
   ]
  },
  {
   "cell_type": "code",
   "execution_count": 19,
   "id": "7c366d84",
   "metadata": {},
   "outputs": [],
   "source": [
    "# Retrain using best params\n",
    "best_svm = grid_search.best_estimator_\n",
    "best_svm.fit(X_train, y_train)\n",
    "\n",
    "# Predict\n",
    "y_train_pred = best_svm.predict(X_train)\n",
    "y_test_pred = best_svm.predict(X_test)"
   ]
  },
  {
   "cell_type": "code",
   "execution_count": 20,
   "id": "e6866879",
   "metadata": {},
   "outputs": [
    {
     "name": "stdout",
     "output_type": "stream",
     "text": [
      "\n",
      "=== Training Set ===\n",
      "Overall Accuracy: 0.9844632768361582\n",
      "\n",
      "=== Test Set ===\n",
      "Overall Accuracy: 0.9587570621468926\n",
      "Accuracy per phase (Train):\n",
      "true\n",
      "G0    0.984605\n",
      "G1    0.981840\n",
      "G2    0.980042\n",
      "S     0.989529\n",
      "dtype: float64\n",
      "Accuracy per phase (Test):\n",
      "true\n",
      "G0    0.973190\n",
      "G1    0.952681\n",
      "G2    0.941176\n",
      "S     0.963810\n",
      "dtype: float64\n",
      "\n",
      "Test Confusion Matrix\n",
      "[[363   7   2   1]\n",
      " [  7 604   4  19]\n",
      " [  1   2 224  11]\n",
      " [  1   7  11 506]]\n"
     ]
    },
    {
     "name": "stderr",
     "output_type": "stream",
     "text": [
      "/var/folders/1s/bvxr71hj0hqgyk_jk6k7wkm80000gn/T/ipykernel_71145/3019480901.py:10: FutureWarning: DataFrameGroupBy.apply operated on the grouping columns. This behavior is deprecated, and in a future version of pandas the grouping columns will be excluded from the operation. Either pass `include_groups=False` to exclude the groupings or explicitly select the grouping columns after groupby to silence this warning.\n",
      "  accuracy_per_phase_train = df_train.groupby('true').apply(lambda x: accuracy_score(x['true'], x['pred']))\n",
      "/var/folders/1s/bvxr71hj0hqgyk_jk6k7wkm80000gn/T/ipykernel_71145/3019480901.py:15: FutureWarning: DataFrameGroupBy.apply operated on the grouping columns. This behavior is deprecated, and in a future version of pandas the grouping columns will be excluded from the operation. Either pass `include_groups=False` to exclude the groupings or explicitly select the grouping columns after groupby to silence this warning.\n",
      "  accuracy_per_phase_test = df_test.groupby('true').apply(lambda x: accuracy_score(x['true'], x['pred']))\n"
     ]
    }
   ],
   "source": [
    "# Output results\n",
    "print(\"\\n=== Training Set ===\")\n",
    "print(\"Overall Accuracy:\", accuracy_score(y_train, y_train_pred))\n",
    "\n",
    "print(\"\\n=== Test Set ===\")\n",
    "print(\"Overall Accuracy:\", accuracy_score(y_test, y_test_pred))\n",
    "\n",
    "# Accuracy per class\n",
    "df_train = pd.DataFrame({'true': y_train, 'pred': y_train_pred})\n",
    "accuracy_per_phase_train = df_train.groupby('true').apply(lambda x: accuracy_score(x['true'], x['pred']))\n",
    "print(\"Accuracy per phase (Train):\")\n",
    "print(accuracy_per_phase_train)\n",
    "\n",
    "df_test = pd.DataFrame({'true': y_test, 'pred': y_test_pred})\n",
    "accuracy_per_phase_test = df_test.groupby('true').apply(lambda x: accuracy_score(x['true'], x['pred']))\n",
    "print(\"Accuracy per phase (Test):\")\n",
    "print(accuracy_per_phase_test)\n",
    "\n",
    "# Confusion Matrix\n",
    "print(\"\\nTest Confusion Matrix\")\n",
    "print(confusion_matrix(y_test, y_test_pred, labels=[\"G0\", \"G1\", \"G2\", \"S\"]))"
   ]
  }
 ],
 "metadata": {
  "kernelspec": {
   "display_name": "sklearn-env",
   "language": "python",
   "name": "python3"
  },
  "language_info": {
   "codemirror_mode": {
    "name": "ipython",
    "version": 3
   },
   "file_extension": ".py",
   "mimetype": "text/x-python",
   "name": "python",
   "nbconvert_exporter": "python",
   "pygments_lexer": "ipython3",
   "version": "3.12.7"
  }
 },
 "nbformat": 4,
 "nbformat_minor": 5
}
