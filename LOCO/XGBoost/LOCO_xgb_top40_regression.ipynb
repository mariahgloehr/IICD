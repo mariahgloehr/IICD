{
 "cells": [
  {
   "cell_type": "code",
   "execution_count": 1,
   "id": "36013ee8",
   "metadata": {},
   "outputs": [],
   "source": [
    "import pandas as pd\n",
    "import numpy as np\n",
    "import matplotlib.pyplot as plt\n",
    "import seaborn as sns\n",
    "from sklearn.model_selection import train_test_split\n",
    "from sklearn.metrics import r2_score, root_mean_squared_error\n",
    "from xgboost import XGBRegressor\n",
    "from sklearn.model_selection import GridSearchCV"
   ]
  },
  {
   "cell_type": "code",
   "execution_count": null,
   "id": "a974c5e8",
   "metadata": {},
   "outputs": [],
   "source": [
    "# Load data\n",
    "df = pd.read_csv(\"/Users/mariahloehr/IICD/IICD/Data/top40_cell_cycle.csv\")\n",
    "\n",
    "# set features and target\n",
    "X = df.drop(columns=['phase', 'age'])  # Features\n",
    "y = df['age']  # target: age\n",
    "\n",
    "feature_names = X.columns.tolist()\n",
    "X = X.to_numpy()\n",
    "y = y.to_numpy()\n",
    "\n",
    "# Train-test split\n",
    "X_train, X_test, y_train, y_test = train_test_split(\n",
    "    X, y, test_size=0.2, random_state=949\n",
    ")"
   ]
  },
  {
   "cell_type": "markdown",
   "id": "98e9534e",
   "metadata": {},
   "source": [
    "LOCO"
   ]
  },
  {
   "cell_type": "code",
   "execution_count": 3,
   "id": "70b4530d",
   "metadata": {},
   "outputs": [],
   "source": [
    "import sys\n",
    "sys.path.append(\"/Users/mariahloehr/IICD/IICD/feature_importance\")"
   ]
  },
  {
   "cell_type": "code",
   "execution_count": 4,
   "id": "27f7f02e",
   "metadata": {},
   "outputs": [],
   "source": [
    "import locomp\n",
    "from locomp import *\n",
    "from locomp.MLmodels import *\n",
    "import itertools\n",
    "import importlib\n",
    "from sklearn.base import BaseEstimator, RegressorMixin, clone\n",
    "import itertools\n",
    "from functools import partial\n",
    "import multiprocessing as mp\n",
    "import re"
   ]
  },
  {
   "cell_type": "code",
   "execution_count": null,
   "id": "b289bced",
   "metadata": {},
   "outputs": [],
   "source": [
    "# define fit_func\n",
    "def XGBreg(X,Y,X1):\n",
    "    xgb = XGBRegressor(\n",
    "    n_estimators=500,\n",
    "    eta = 0.05,\n",
    "    gamma = 0,\n",
    "    max_depth=5,\n",
    "    random_state=949\n",
    ").fit(X,Y)\n",
    "    return xgb.predict(X1)"
   ]
  },
  {
   "cell_type": "code",
   "execution_count": 6,
   "id": "ccd85c40",
   "metadata": {},
   "outputs": [],
   "source": [
    "J1 = 0\n",
    "J2 = 1\n",
    "m_ratio = 0.2\n",
    "n_ratio = 0.2\n",
    "B = 5000\n",
    "fit_func = XGBreg"
   ]
  },
  {
   "cell_type": "code",
   "execution_count": 11,
   "id": "070a35c2",
   "metadata": {},
   "outputs": [
    {
     "ename": "TypeError",
     "evalue": "LOCOMPReg.__init__() got an unexpected keyword argument 'X1'",
     "output_type": "error",
     "traceback": [
      "\u001b[31m---------------------------------------------------------------------------\u001b[39m",
      "\u001b[31mTypeError\u001b[39m                                 Traceback (most recent call last)",
      "\u001b[36mCell\u001b[39m\u001b[36m \u001b[39m\u001b[32mIn[11]\u001b[39m\u001b[32m, line 1\u001b[39m\n\u001b[32m----> \u001b[39m\u001b[32m1\u001b[39m x=\u001b[43mLOCOMPReg\u001b[49m\u001b[43m(\u001b[49m\u001b[43mX\u001b[49m\u001b[43m \u001b[49m\u001b[43m=\u001b[49m\u001b[43m \u001b[49m\u001b[43mX_train\u001b[49m\u001b[43m,\u001b[49m\u001b[43mY\u001b[49m\u001b[43m \u001b[49m\u001b[43m=\u001b[49m\u001b[43m \u001b[49m\u001b[43my_train\u001b[49m\u001b[43m,\u001b[49m\u001b[43mX1\u001b[49m\u001b[43m \u001b[49m\u001b[43m=\u001b[49m\u001b[43m \u001b[49m\u001b[43mX_test\u001b[49m\u001b[43m,\u001b[49m\u001b[43m \u001b[49m\u001b[43mn_ratio\u001b[49m\u001b[43m \u001b[49m\u001b[43m=\u001b[49m\u001b[43m \u001b[49m\u001b[43mn_ratio\u001b[49m\u001b[43m,\u001b[49m\u001b[43mm_ratio\u001b[49m\u001b[43m \u001b[49m\u001b[43m=\u001b[49m\u001b[43m \u001b[49m\u001b[43mm_ratio\u001b[49m\u001b[43m,\u001b[49m\u001b[43mB\u001b[49m\u001b[43m \u001b[49m\u001b[43m=\u001b[49m\u001b[43m \u001b[49m\u001b[43mB\u001b[49m\u001b[43m,\u001b[49m\u001b[43m \u001b[49m\u001b[43mfit_func\u001b[49m\u001b[43m \u001b[49m\u001b[43m=\u001b[49m\u001b[43m \u001b[49m\u001b[43mfit_func\u001b[49m\u001b[43m,\u001b[49m\u001b[43m \u001b[49m\u001b[43mselected_features\u001b[49m\u001b[43m=\u001b[49m\u001b[43m[\u001b[49m\u001b[32;43m0\u001b[39;49m\u001b[43m,\u001b[49m\u001b[32;43m1\u001b[39;49m\u001b[43m]\u001b[49m\u001b[43m,\u001b[49m\u001b[43malpha\u001b[49m\u001b[43m=\u001b[49m\u001b[32;43m0.1\u001b[39;49m\u001b[43m,\u001b[49m\u001b[43mbonf\u001b[49m\u001b[43m=\u001b[49m\u001b[38;5;28;43;01mFalse\u001b[39;49;00m\u001b[43m)\u001b[49m\n\u001b[32m      2\u001b[39m x.run_loco()\n\u001b[32m      3\u001b[39m \u001b[38;5;66;03m#x.loco_ci\u001b[39;00m\n",
      "\u001b[31mTypeError\u001b[39m: LOCOMPReg.__init__() got an unexpected keyword argument 'X1'"
     ]
    }
   ],
   "source": [
    "x=LOCOMPReg(X = X_train,Y = y_train,X1 = X_test, n_ratio = n_ratio,m_ratio = m_ratio,B = B, fit_func = fit_func, selected_features=[0,1],alpha=0.1,bonf=False)\n",
    "x.run_loco()\n",
    "#x.loco_ci"
   ]
  }
 ],
 "metadata": {
  "kernelspec": {
   "display_name": "sklearn-env",
   "language": "python",
   "name": "python3"
  },
  "language_info": {
   "codemirror_mode": {
    "name": "ipython",
    "version": 3
   },
   "file_extension": ".py",
   "mimetype": "text/x-python",
   "name": "python",
   "nbconvert_exporter": "python",
   "pygments_lexer": "ipython3",
   "version": "3.12.7"
  }
 },
 "nbformat": 4,
 "nbformat_minor": 5
}
