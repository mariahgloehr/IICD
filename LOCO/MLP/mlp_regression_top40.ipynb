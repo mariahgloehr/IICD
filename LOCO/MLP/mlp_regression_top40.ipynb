{
 "cells": [
  {
   "cell_type": "code",
   "execution_count": 1,
   "id": "7d6e6451",
   "metadata": {},
   "outputs": [],
   "source": [
    "import pandas as pd\n",
    "import numpy as np\n",
    "import matplotlib.pyplot as plt\n",
    "import seaborn as sns\n",
    "from sklearn.model_selection import train_test_split, GridSearchCV\n",
    "from sklearn.neural_network import MLPRegressor\n",
    "from sklearn.metrics import mean_squared_error, root_mean_squared_error, make_scorer"
   ]
  },
  {
   "cell_type": "code",
   "execution_count": 2,
   "id": "0fbc0a51",
   "metadata": {},
   "outputs": [],
   "source": [
    "# Load data\n",
    "df = pd.read_csv(\"/Users/mariahloehr/IICD/IICD/Data/top40_cell_cycle.csv\")\n",
    "\n",
    "# Separate features and target\n",
    "X = df.drop(columns=['phase', 'age'])\n",
    "y = df['age']\n",
    "\n",
    "# Split data\n",
    "X_train, X_test, y_train, y_test = train_test_split(X, y, test_size=0.2, random_state=949)"
   ]
  },
  {
   "cell_type": "code",
   "execution_count": 3,
   "id": "0bad77ab",
   "metadata": {},
   "outputs": [],
   "source": [
    "# Define MLP regressor\n",
    "mlp = MLPRegressor(max_iter=1000, random_state=949)"
   ]
  },
  {
   "cell_type": "code",
   "execution_count": 6,
   "id": "45a53040",
   "metadata": {},
   "outputs": [
    {
     "name": "stdout",
     "output_type": "stream",
     "text": [
      "Best parameters: {'hidden_layer_sizes': (500,)}\n"
     ]
    }
   ],
   "source": [
    "# Hyperparameter tuning\n",
    "param_grid = {\n",
    "    'hidden_layer_sizes': [\n",
    "        (150,),\n",
    "        (300,),         # 1 hidden layer\n",
    "        (500,),        # 1 hidden layer\n",
    "        (50,),        # 1 hidden layer\n",
    "        (300, 150),     # 2 hidden layers\n",
    "        (150, 75),     # 2 hidden layers\n",
    "        (300, 150, 75), # 3 hidden layers\n",
    "        (300,300,300)   # 3 hidden layers\n",
    "    ]\n",
    "}\n",
    "\n",
    "# GridSearchCV using RMSE as scoring\n",
    "\n",
    "grid_search = GridSearchCV(\n",
    "    estimator=mlp,\n",
    "    param_grid=param_grid,\n",
    "    cv=10,\n",
    "    scoring= 'neg_root_mean_squared_error',\n",
    "    n_jobs=-1\n",
    ")\n",
    "\n",
    "# Fit model\n",
    "grid_search.fit(X_train, y_train)\n",
    "\n",
    "\n",
    "# Best parameters and R² score\n",
    "print(\"Best parameters:\", grid_search.best_params_)\n"
   ]
  },
  {
   "cell_type": "code",
   "execution_count": 7,
   "id": "53c2e1e8",
   "metadata": {},
   "outputs": [
    {
     "name": "stdout",
     "output_type": "stream",
     "text": [
      "  param_hidden_layer_sizes  mean_test_score  std_test_score  rank_test_score\n",
      "2                   (500,)        -1.541698        0.122010                1\n",
      "6           (300, 150, 75)        -1.573757        0.133069                2\n",
      "7          (300, 300, 300)        -1.575272        0.163491                3\n",
      "1                   (300,)        -1.580438        0.131399                4\n",
      "3                    (50,)        -1.593197        0.141743                5\n",
      "5                (150, 75)        -1.596964        0.117773                6\n",
      "4               (300, 150)        -1.611681        0.136503                7\n",
      "0                   (150,)        -1.618588        0.178456                8\n"
     ]
    }
   ],
   "source": [
    "# Convert the cv_results_ dictionary to a DataFrame\n",
    "results_df = pd.DataFrame(grid_search.cv_results_)\n",
    "\n",
    "# Select and display relevant columns\n",
    "print(\n",
    "    results_df[\n",
    "        [\n",
    "            'param_hidden_layer_sizes',\n",
    "            'mean_test_score',\n",
    "            'std_test_score',\n",
    "            'rank_test_score'\n",
    "        ]\n",
    "    ].sort_values(by='rank_test_score')\n",
    ")"
   ]
  },
  {
   "cell_type": "code",
   "execution_count": 8,
   "id": "ff9286c5",
   "metadata": {},
   "outputs": [],
   "source": [
    "# Retrain with best estimator\n",
    "best_mlp = grid_search.best_estimator_\n",
    "best_mlp.fit(X_train, y_train)\n",
    "\n",
    "# Predictions\n",
    "y_train_pred = best_mlp.predict(X_train)\n",
    "y_test_pred = best_mlp.predict(X_test)"
   ]
  },
  {
   "cell_type": "markdown",
   "id": "b5d04eb6",
   "metadata": {},
   "source": [
    "LOCO"
   ]
  },
  {
   "cell_type": "code",
   "execution_count": 3,
   "id": "95c046bc",
   "metadata": {},
   "outputs": [],
   "source": [
    "import sys\n",
    "sys.path.append(\"/Users/mariahloehr/IICD/IICD/feature_importance\")"
   ]
  },
  {
   "cell_type": "code",
   "execution_count": 4,
   "id": "fcb62743",
   "metadata": {},
   "outputs": [],
   "source": [
    "import locomp\n",
    "from locomp import *\n",
    "from locomp.MLmodels import *\n",
    "import itertools\n",
    "import importlib\n",
    "from sklearn.base import BaseEstimator, RegressorMixin, clone\n",
    "import itertools\n",
    "from functools import partial\n",
    "import multiprocessing as mp\n",
    "import re"
   ]
  },
  {
   "cell_type": "code",
   "execution_count": null,
   "id": "44622633",
   "metadata": {},
   "outputs": [],
   "source": [
    "# define fit_func\n",
    "def MLPreg(X,Y,X1):\n",
    "    mlp = MLPRegressor(max_iter=1000, random_state=949, hidden_layer_sizes = ).fit(X,Y)\n",
    "    return mlp.predict(X1)"
   ]
  },
  {
   "cell_type": "code",
   "execution_count": null,
   "id": "5048a747",
   "metadata": {},
   "outputs": [],
   "source": [
    "J1 = 0\n",
    "J2 = 1\n",
    "m_ratio = 0.2\n",
    "n_ratio = 0.2\n",
    "B = 5000\n",
    "fit_func = MLPreg"
   ]
  },
  {
   "cell_type": "code",
   "execution_count": null,
   "id": "fb62c485",
   "metadata": {},
   "outputs": [],
   "source": [
    "x=LOCOMPReg(X_train,y_train,n_ratio,m_ratio,B,fit_func, selected_features=[],alpha=0.1,bonf=False)\n",
    "x.run_loco()\n",
    "#x.loco_ci"
   ]
  }
 ],
 "metadata": {
  "kernelspec": {
   "display_name": "sklearn-env",
   "language": "python",
   "name": "python3"
  },
  "language_info": {
   "codemirror_mode": {
    "name": "ipython",
    "version": 3
   },
   "file_extension": ".py",
   "mimetype": "text/x-python",
   "name": "python",
   "nbconvert_exporter": "python",
   "pygments_lexer": "ipython3",
   "version": "3.12.7"
  }
 },
 "nbformat": 4,
 "nbformat_minor": 5
}
