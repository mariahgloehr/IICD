{
 "cells": [
  {
   "cell_type": "code",
   "execution_count": 2,
   "id": "7d6e6451",
   "metadata": {},
   "outputs": [],
   "source": [
    "import pandas as pd\n",
    "import numpy as np\n",
    "import matplotlib.pyplot as plt\n",
    "import seaborn as sns\n",
    "from sklearn.model_selection import train_test_split, GridSearchCV\n",
    "from sklearn.neural_network import MLPRegressor\n",
    "from sklearn.metrics import mean_squared_error, root_mean_squared_error, make_scorer"
   ]
  },
  {
   "cell_type": "code",
   "execution_count": null,
   "id": "0fbc0a51",
   "metadata": {},
   "outputs": [],
   "source": [
    "# Load data\n",
    "df = pd.read_csv(\"/Users/mariahloehr/IICD/IICD/Data/top40_cell_cycle.csv\")\n",
    "\n",
    "# Separate features and target\n",
    "X = df.drop(columns=['phase', 'age'])\n",
    "y = df['age']\n",
    "\n",
    "feature_names = X.columns.tolist()\n",
    "X = X.to_numpy()\n",
    "y = y.to_numpy()"
   ]
  },
  {
   "cell_type": "markdown",
   "id": "b5d04eb6",
   "metadata": {},
   "source": [
    "LOCO"
   ]
  },
  {
   "cell_type": "code",
   "execution_count": 4,
   "id": "95c046bc",
   "metadata": {},
   "outputs": [],
   "source": [
    "import sys\n",
    "sys.path.append(\"/Users/mariahloehr/IICD/IICD/feature_importance\")"
   ]
  },
  {
   "cell_type": "code",
   "execution_count": 5,
   "id": "fcb62743",
   "metadata": {},
   "outputs": [],
   "source": [
    "import locomp\n",
    "from locomp import *\n",
    "from locomp.MLmodels import *\n",
    "import itertools\n",
    "import importlib\n",
    "from sklearn.base import BaseEstimator, RegressorMixin, clone\n",
    "import itertools\n",
    "from functools import partial\n",
    "import multiprocessing as mp\n",
    "import re"
   ]
  },
  {
   "cell_type": "code",
   "execution_count": 6,
   "id": "44622633",
   "metadata": {},
   "outputs": [],
   "source": [
    "# define fit_func\n",
    "def MLPreg(X,Y,X1):\n",
    "    mlp = MLPRegressor(max_iter=1000, random_state=949, hidden_layer_sizes = (500,)).fit(X,Y)\n",
    "    return mlp.predict(X1)"
   ]
  },
  {
   "cell_type": "code",
   "execution_count": 7,
   "id": "5048a747",
   "metadata": {},
   "outputs": [],
   "source": [
    "J1 = 0\n",
    "J2 = 1\n",
    "m_ratio = 0.2\n",
    "n_ratio = 0.2\n",
    "B = 5000\n",
    "fit_func = MLPreg"
   ]
  },
  {
   "cell_type": "code",
   "execution_count": null,
   "id": "fb62c485",
   "metadata": {},
   "outputs": [],
   "source": [
    "x=LOCOMPReg(X,y,n_ratio,m_ratio,B,fit_func, selected_features=[],alpha=0.1,bonf=False)\n",
    "x.run_loco()\n",
    "#x.loco_ci"
   ]
  }
 ],
 "metadata": {
  "kernelspec": {
   "display_name": "sklearn-env",
   "language": "python",
   "name": "python3"
  },
  "language_info": {
   "codemirror_mode": {
    "name": "ipython",
    "version": 3
   },
   "file_extension": ".py",
   "mimetype": "text/x-python",
   "name": "python",
   "nbconvert_exporter": "python",
   "pygments_lexer": "ipython3",
   "version": "3.12.7"
  }
 },
 "nbformat": 4,
 "nbformat_minor": 5
}
