{
 "cells": [
  {
   "cell_type": "code",
   "execution_count": null,
   "id": "63368fff",
   "metadata": {},
   "outputs": [],
   "source": [
    "import pandas as pd\n",
    "from sklearn.model_selection import train_test_split, GridSearchCV\n",
    "from sklearn.neural_network import MLPClassifier\n",
    "from sklearn.metrics import accuracy_score, confusion_matrix"
   ]
  },
  {
   "cell_type": "code",
   "execution_count": 2,
   "id": "586c548a",
   "metadata": {},
   "outputs": [],
   "source": [
    "# Load data\n",
    "df = pd.read_csv(\"/Users/mariahloehr/IICD/IICD/Data/cell_cycle_tidied.csv\")\n",
    "\n",
    "# Combine phase M and G2 into one class\n",
    "df['phase'] = df['phase'].replace({'M': 'G2'})\n",
    "\n",
    "# Separate features and target\n",
    "X = df.drop(columns=['phase', 'age', 'PHATE_1', 'PHATE_2'])\n",
    "y = df['phase']\n",
    "\n",
    "# Split data\n",
    "X_train, X_test, y_train, y_test = train_test_split(X, y, test_size=0.2, random_state=949, stratify=y)"
   ]
  },
  {
   "cell_type": "code",
   "execution_count": 3,
   "id": "70a5f6c7",
   "metadata": {},
   "outputs": [],
   "source": [
    "# Define MLP model\n",
    "mlp = MLPClassifier(max_iter=1000, random_state=949)"
   ]
  },
  {
   "cell_type": "code",
   "execution_count": 18,
   "id": "67c5240a",
   "metadata": {},
   "outputs": [
    {
     "name": "stdout",
     "output_type": "stream",
     "text": [
      "Best parameters: {'hidden_layer_sizes': (300,)}\n"
     ]
    }
   ],
   "source": [
    "# Hyperparameter tuning\n",
    "param_grid = {\n",
    "    'hidden_layer_sizes': [\n",
    "        (300,),         # 1 hidden layer\n",
    "        (500,),        # 1 hidden layer\n",
    "        (50,),        # 1 hidden layer\n",
    "        (300, 150),     # 2 hidden layers\n",
    "        (150, 75),     # 2 hidden layers\n",
    "        (300, 150, 75), # 3 hidden layers\n",
    "        (300,300,300)   # 3 hidden layers\n",
    "    ]\n",
    "}\n",
    "\n",
    "# GridSearchCV\n",
    "grid_search = GridSearchCV(\n",
    "    estimator=mlp,\n",
    "    param_grid=param_grid,\n",
    "    cv=10,\n",
    "    scoring='accuracy',\n",
    "    n_jobs=-1\n",
    ")\n",
    "\n",
    "# Fit model\n",
    "grid_search.fit(X_train, y_train)\n",
    "\n",
    "# Output best parameters and best accuracy\n",
    "print(\"Best parameters:\", grid_search.best_params_)"
   ]
  },
  {
   "cell_type": "code",
   "execution_count": 19,
   "id": "6b88478d",
   "metadata": {},
   "outputs": [
    {
     "name": "stdout",
     "output_type": "stream",
     "text": [
      "  param_hidden_layer_sizes  mean_test_score  std_test_score  rank_test_score\n",
      "0                   (300,)         0.948164        0.007092                1\n",
      "1                   (500,)         0.946469        0.006608                2\n",
      "2                    (50,)         0.946469        0.003967                2\n",
      "5           (300, 150, 75)         0.946469        0.006203                2\n",
      "4                (150, 75)         0.946328        0.005053                5\n",
      "6          (300, 300, 300)         0.946045        0.005607                6\n",
      "3               (300, 150)         0.944209        0.007454                7\n"
     ]
    }
   ],
   "source": [
    "# Convert the cv_results_ dictionary to a DataFrame\n",
    "results_df = pd.DataFrame(grid_search.cv_results_)\n",
    "\n",
    "# Select and display relevant columns\n",
    "print(\n",
    "    results_df[\n",
    "        [\n",
    "            'param_hidden_layer_sizes',\n",
    "            'mean_test_score',\n",
    "            'std_test_score',\n",
    "            'rank_test_score'\n",
    "        ]\n",
    "    ].sort_values(by='rank_test_score')\n",
    ")"
   ]
  },
  {
   "cell_type": "code",
   "execution_count": 20,
   "id": "4f6473fc",
   "metadata": {},
   "outputs": [],
   "source": [
    "# Retrain with best parameters\n",
    "best_mlp = grid_search.best_estimator_\n",
    "best_mlp.fit(X_train, y_train)\n",
    "\n",
    "# Predictions\n",
    "y_train_pred = best_mlp.predict(X_train)\n",
    "y_test_pred = best_mlp.predict(X_test)"
   ]
  },
  {
   "cell_type": "code",
   "execution_count": 21,
   "id": "d84aebde",
   "metadata": {},
   "outputs": [
    {
     "name": "stdout",
     "output_type": "stream",
     "text": [
      "=== Training Set ===\n",
      "Overall Accuracy: 1.0\n",
      "\n",
      "=== Test Set ===\n",
      "Overall Accuracy: 0.9423728813559322\n",
      "\n",
      "Accuracy per phase (Train):\n",
      "true\n",
      "G0    1.0\n",
      "G1    1.0\n",
      "G2    1.0\n",
      "S     1.0\n",
      "dtype: float64\n",
      "\n",
      "Accuracy per phase (Test):\n",
      "true\n",
      "G0    0.951743\n",
      "G1    0.935331\n",
      "G2    0.915966\n",
      "S     0.956190\n",
      "dtype: float64\n",
      "\n",
      "Test Confusion Matrix\n",
      "[[355  15   1   2]\n",
      " [ 15 593   5  21]\n",
      " [  1   2 218  17]\n",
      " [  1  13   9 502]]\n"
     ]
    },
    {
     "name": "stderr",
     "output_type": "stream",
     "text": [
      "/var/folders/1s/bvxr71hj0hqgyk_jk6k7wkm80000gn/T/ipykernel_19841/1068295868.py:10: FutureWarning: DataFrameGroupBy.apply operated on the grouping columns. This behavior is deprecated, and in a future version of pandas the grouping columns will be excluded from the operation. Either pass `include_groups=False` to exclude the groupings or explicitly select the grouping columns after groupby to silence this warning.\n",
      "  accuracy_per_phase_train = df_train.groupby('true').apply(lambda x: accuracy_score(x['true'], x['pred']))\n",
      "/var/folders/1s/bvxr71hj0hqgyk_jk6k7wkm80000gn/T/ipykernel_19841/1068295868.py:16: FutureWarning: DataFrameGroupBy.apply operated on the grouping columns. This behavior is deprecated, and in a future version of pandas the grouping columns will be excluded from the operation. Either pass `include_groups=False` to exclude the groupings or explicitly select the grouping columns after groupby to silence this warning.\n",
      "  accuracy_per_phase_test = df_test.groupby('true').apply(lambda x: accuracy_score(x['true'], x['pred']))\n"
     ]
    }
   ],
   "source": [
    "# Evaluation\n",
    "print(\"=== Training Set ===\")\n",
    "print(\"Overall Accuracy:\", accuracy_score(y_train, y_train_pred))\n",
    "\n",
    "print(\"\\n=== Test Set ===\")\n",
    "print(\"Overall Accuracy:\", accuracy_score(y_test, y_test_pred))\n",
    "\n",
    "# Accuracy per phase (Train)\n",
    "df_train = pd.DataFrame({'true': y_train, 'pred': y_train_pred})\n",
    "accuracy_per_phase_train = df_train.groupby('true').apply(lambda x: accuracy_score(x['true'], x['pred']))\n",
    "print(\"\\nAccuracy per phase (Train):\")\n",
    "print(accuracy_per_phase_train)\n",
    "\n",
    "# Accuracy per phase (Test)\n",
    "df_test = pd.DataFrame({'true': y_test, 'pred': y_test_pred})\n",
    "accuracy_per_phase_test = df_test.groupby('true').apply(lambda x: accuracy_score(x['true'], x['pred']))\n",
    "print(\"\\nAccuracy per phase (Test):\")\n",
    "print(accuracy_per_phase_test)\n",
    "\n",
    "# Confusion Matrix\n",
    "print(\"\\nTest Confusion Matrix\")\n",
    "print(confusion_matrix(y_test, y_test_pred, labels=[\"G0\", \"G1\", \"G2\", \"S\"]))"
   ]
  },
  {
   "cell_type": "code",
   "execution_count": 23,
   "id": "5924e86f",
   "metadata": {},
   "outputs": [
    {
     "name": "stderr",
     "output_type": "stream",
     "text": [
      "/var/folders/1s/bvxr71hj0hqgyk_jk6k7wkm80000gn/T/ipykernel_19841/2108438782.py:11: FutureWarning: DataFrameGroupBy.apply operated on the grouping columns. This behavior is deprecated, and in a future version of pandas the grouping columns will be excluded from the operation. Either pass `include_groups=False` to exclude the groupings or explicitly select the grouping columns after groupby to silence this warning.\n",
      "  acc_per_phase = df_test.groupby('true').apply(lambda x: accuracy_score(x['true'], x['pred']))\n"
     ]
    }
   ],
   "source": [
    "# save results\n",
    "# === Load existing results ===\n",
    "results_df = pd.read_csv(\"/Users/mariahloehr/IICD/IICD/Bar Plot/classification_results.csv\", index_col=0)\n",
    "\n",
    "# === Compute accuracy ===\n",
    "from sklearn.metrics import accuracy_score\n",
    "\n",
    "overall_acc = accuracy_score(y_test, y_test_pred)\n",
    "\n",
    "df_test = pd.DataFrame({'true': y_test, 'pred': y_test_pred})\n",
    "acc_per_phase = df_test.groupby('true').apply(lambda x: accuracy_score(x['true'], x['pred']))\n",
    "\n",
    "# === Insert values ===\n",
    "model_name = \"MLP (full)\"\n",
    "results_df.loc[model_name, 'Overall'] = overall_acc\n",
    "\n",
    "# Set per-phase accuracies\n",
    "for phase in ['G0', 'G1', 'G2', 'S']:\n",
    "    if phase in acc_per_phase.index:\n",
    "        results_df.loc[model_name, phase] = acc_per_phase[phase]\n",
    "\n",
    "# === Save updated file ===\n",
    "results_df.to_csv(\"/Users/mariahloehr/IICD/IICD/Bar Plot/classification_results.csv\")"
   ]
  }
 ],
 "metadata": {
  "kernelspec": {
   "display_name": "sklearn-env",
   "language": "python",
   "name": "python3"
  },
  "language_info": {
   "codemirror_mode": {
    "name": "ipython",
    "version": 3
   },
   "file_extension": ".py",
   "mimetype": "text/x-python",
   "name": "python",
   "nbconvert_exporter": "python",
   "pygments_lexer": "ipython3",
   "version": "3.12.7"
  }
 },
 "nbformat": 4,
 "nbformat_minor": 5
}
