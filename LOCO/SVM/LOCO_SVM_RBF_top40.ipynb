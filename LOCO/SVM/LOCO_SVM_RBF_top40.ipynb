{
 "cells": [
  {
   "cell_type": "code",
   "execution_count": 1,
   "id": "0ff1cfa5",
   "metadata": {},
   "outputs": [],
   "source": [
    "import pandas as pd\n",
    "from sklearn.svm import SVC\n",
    "from sklearn.model_selection import train_test_split, GridSearchCV\n",
    "from sklearn.metrics import accuracy_score, classification_report, confusion_matrix, ConfusionMatrixDisplay"
   ]
  },
  {
   "cell_type": "code",
   "execution_count": 26,
   "id": "860d2a3b",
   "metadata": {},
   "outputs": [],
   "source": [
    "# Load data\n",
    "df = pd.read_csv(\"/Users/mariahloehr/IICD/IICD/Data/top40_cell_cycle.csv\")\n",
    "\n",
    "df['phase'] = df['phase'].replace({'M': 'G2'})\n",
    "\n",
    "# Separate features and target\n",
    "X = df.drop(columns=['phase', 'age'])  # exclude phase and age\n",
    "y = df['phase']  # target is now age\n",
    "\n",
    "feature_names = X.columns.tolist()\n",
    "X = X.to_numpy()\n",
    "y = y.to_numpy()\n",
    "\n",
    "X_train, X_test, y_train, y_test = train_test_split(X, y, test_size=0.2, random_state=949, stratify = y)"
   ]
  },
  {
   "cell_type": "code",
   "execution_count": 3,
   "id": "4b600402",
   "metadata": {},
   "outputs": [],
   "source": [
    "# Define RBF-kernel SVM\n",
    "svm = SVC(kernel='rbf', probability=False, random_state=949)"
   ]
  },
  {
   "cell_type": "code",
   "execution_count": 4,
   "id": "dabac89a",
   "metadata": {},
   "outputs": [
    {
     "name": "stdout",
     "output_type": "stream",
     "text": [
      "Best parameters: {'C': 400, 'gamma': 0.001}\n",
      "Best cross-validation accuracy: 0.9634180790960452\n"
     ]
    }
   ],
   "source": [
    "# Hyperparameter tuning\n",
    "param_grid = {\n",
    "    'C': [200, 300, 400],\n",
    "    'gamma': [0.1, 0.01, 0.001]\n",
    "}\n",
    "\n",
    "grid_search = GridSearchCV(\n",
    "    estimator=svm,\n",
    "    param_grid=param_grid,\n",
    "    cv=10,\n",
    "    scoring='accuracy',\n",
    "    n_jobs=-1\n",
    ")\n",
    "\n",
    "# Fit the model\n",
    "grid_search.fit(X_train, y_train)\n",
    "\n",
    "# Output best settings\n",
    "print(\"Best parameters:\", grid_search.best_params_)\n",
    "print(\"Best cross-validation accuracy:\", grid_search.best_score_)"
   ]
  },
  {
   "cell_type": "code",
   "execution_count": 5,
   "id": "c92efbe4",
   "metadata": {},
   "outputs": [],
   "source": [
    "# Retrain using best params\n",
    "best_svm = grid_search.best_estimator_\n",
    "best_svm.fit(X_train, y_train)\n",
    "\n",
    "# Predict\n",
    "y_train_pred = best_svm.predict(X_train)\n",
    "y_test_pred = best_svm.predict(X_test)"
   ]
  },
  {
   "cell_type": "markdown",
   "id": "7860179f",
   "metadata": {},
   "source": [
    "LOCO"
   ]
  },
  {
   "cell_type": "code",
   "execution_count": 5,
   "id": "c3ed0643",
   "metadata": {},
   "outputs": [],
   "source": [
    "import sys\n",
    "sys.path.append(\"/Users/mariahloehr/IICD/IICD/feature_importance\")"
   ]
  },
  {
   "cell_type": "code",
   "execution_count": 11,
   "id": "f57b29da",
   "metadata": {},
   "outputs": [],
   "source": [
    "import locomp\n",
    "from locomp import *\n",
    "from locomp.MLmodels import *\n",
    "import itertools\n",
    "import importlib\n",
    "from sklearn.base import BaseEstimator, RegressorMixin, clone\n",
    "import itertools\n",
    "from functools import partial\n",
    "import multiprocessing as mp\n",
    "import re"
   ]
  },
  {
   "cell_type": "code",
   "execution_count": 32,
   "id": "77c916e4",
   "metadata": {},
   "outputs": [],
   "source": [
    "# define fit_func\n",
    "def SVM(X,Y):\n",
    "    svc = SVC(kernel='rbf', random_state=949, probability=True, C = 400, gamma = 0.001).fit(X, Y)    \n",
    "    return svc"
   ]
  },
  {
   "cell_type": "code",
   "execution_count": 33,
   "id": "0403a934",
   "metadata": {},
   "outputs": [],
   "source": [
    "J1 = 0\n",
    "J2 = 1\n",
    "m_ratio = 0.2\n",
    "n_ratio = 0.2\n",
    "B = 5000\n",
    "fit_func = SVM"
   ]
  },
  {
   "cell_type": "code",
   "execution_count": 34,
   "id": "3b474f51",
   "metadata": {},
   "outputs": [
    {
     "name": "stderr",
     "output_type": "stream",
     "text": [
      "/Users/mariahloehr/IICD/IICD/feature_importance/locomp/util_locomp.py:32: FutureWarning: DataFrameGroupBy.apply operated on the grouping columns. This behavior is deprecated, and in a future version of pandas the grouping columns will be excluded from the operation. Either pass `include_groups=False` to exclude the groupings or explicitly select the grouping columns after groupby to silence this warning.\n",
      "  idx_I =Y_pd.groupby(0, group_keys=False).apply(lambda x: x.sample(frac=n_ratio))\n"
     ]
    },
    {
     "ename": "ValueError",
     "evalue": "columns cannot be a set",
     "output_type": "error",
     "traceback": [
      "\u001b[31m---------------------------------------------------------------------------\u001b[39m",
      "\u001b[31mValueError\u001b[39m                                Traceback (most recent call last)",
      "\u001b[32m/var/folders/1s/bvxr71hj0hqgyk_jk6k7wkm80000gn/T/ipykernel_62436/3365003135.py\u001b[39m in \u001b[36m?\u001b[39m\u001b[34m()\u001b[39m\n\u001b[32m      1\u001b[39m x=LOCOMPClass(X_train,y_train,n_ratio,m_ratio,B,fit_func, selected_features=[],alpha=\u001b[32m0.1\u001b[39m,bonf=\u001b[38;5;28;01mFalse\u001b[39;00m)\n\u001b[32m----> \u001b[39m\u001b[32m2\u001b[39m x.run_loco()\n",
      "\u001b[32m~/IICD/IICD/feature_importance/locomp/_loco_classification.py\u001b[39m in \u001b[36m?\u001b[39m\u001b[34m(self, *args, **kwargs)\u001b[39m\n\u001b[32m     57\u001b[39m         N=len(self.X)\n\u001b[32m     58\u001b[39m         M = len(self.X[\u001b[32m0\u001b[39m])\n\u001b[32m     59\u001b[39m         clas=np.unique(self.Y)\n\u001b[32m     60\u001b[39m \n\u001b[32m---> \u001b[39m\u001b[32m61\u001b[39m         [predictions,in_mp_obs,in_mp_feature]= predictMPClass(self.X,self.Y,self.X,self.n_ratio,self.m_ratio,self.B,self.fit_func)\n\u001b[32m     62\u001b[39m         zeros=\u001b[38;5;28;01mFalse\u001b[39;00m\n\u001b[32m     63\u001b[39m \n\u001b[32m     64\u001b[39m         \u001b[38;5;66;03m#############################\u001b[39;00m\n",
      "\u001b[32m~/IICD/IICD/feature_importance/locomp/util_locomp.py\u001b[39m in \u001b[36m?\u001b[39m\u001b[34m(X, Y, X1, n_ratio, m_ratio, B, fit_func)\u001b[39m\n\u001b[32m     62\u001b[39m     predictions=[]\n\u001b[32m     63\u001b[39m     \u001b[38;5;28;01mfor\u001b[39;00m b \u001b[38;5;28;01min\u001b[39;00m range(B):\n\u001b[32m     64\u001b[39m         [idx_I,idx_F,x_mp,y_mp] = buildMPClass(X,Y,n_ratio,m_ratio)\n\u001b[32m     65\u001b[39m         model = fit_func(x_mp,y_mp)\n\u001b[32m---> \u001b[39m\u001b[32m66\u001b[39m         prob = pd.DataFrame(model.predict_proba(X1[:, idx_F]), columns=set(y_mp))\n\u001b[32m     67\u001b[39m         \u001b[38;5;28;01mfor\u001b[39;00m i \u001b[38;5;28;01min\u001b[39;00m (clas):\n\u001b[32m     68\u001b[39m             \u001b[38;5;28;01mif\u001b[39;00m i \u001b[38;5;28;01mnot\u001b[39;00m \u001b[38;5;28;01min\u001b[39;00m prob.columns:\n\u001b[32m     69\u001b[39m                 prob[i]=\u001b[32m0\u001b[39m\n",
      "\u001b[32m~/IICD/IICD/sklearn-env/lib/python3.12/site-packages/pandas/core/frame.py\u001b[39m in \u001b[36m?\u001b[39m\u001b[34m(self, data, index, columns, dtype, copy)\u001b[39m\n\u001b[32m    740\u001b[39m         \u001b[38;5;66;03m# GH47215\u001b[39;00m\n\u001b[32m    741\u001b[39m         \u001b[38;5;28;01mif\u001b[39;00m isinstance(index, set):\n\u001b[32m    742\u001b[39m             \u001b[38;5;28;01mraise\u001b[39;00m ValueError(\u001b[33m\"index cannot be a set\"\u001b[39m)\n\u001b[32m    743\u001b[39m         \u001b[38;5;28;01mif\u001b[39;00m isinstance(columns, set):\n\u001b[32m--> \u001b[39m\u001b[32m744\u001b[39m             \u001b[38;5;28;01mraise\u001b[39;00m ValueError(\u001b[33m\"columns cannot be a set\"\u001b[39m)\n\u001b[32m    745\u001b[39m \n\u001b[32m    746\u001b[39m         \u001b[38;5;28;01mif\u001b[39;00m copy \u001b[38;5;28;01mis\u001b[39;00m \u001b[38;5;28;01mNone\u001b[39;00m:\n\u001b[32m    747\u001b[39m             \u001b[38;5;28;01mif\u001b[39;00m isinstance(data, dict):\n",
      "\u001b[31mValueError\u001b[39m: columns cannot be a set"
     ]
    }
   ],
   "source": [
    "x=LOCOMPClass(X_train,y_train,n_ratio,m_ratio,B,fit_func, selected_features=[],alpha=0.1,bonf=False)\n",
    "x.run_loco()"
   ]
  }
 ],
 "metadata": {
  "kernelspec": {
   "display_name": "sklearn-env",
   "language": "python",
   "name": "python3"
  },
  "language_info": {
   "codemirror_mode": {
    "name": "ipython",
    "version": 3
   },
   "file_extension": ".py",
   "mimetype": "text/x-python",
   "name": "python",
   "nbconvert_exporter": "python",
   "pygments_lexer": "ipython3",
   "version": "3.12.7"
  }
 },
 "nbformat": 4,
 "nbformat_minor": 5
}
