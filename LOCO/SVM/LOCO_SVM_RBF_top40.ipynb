{
 "cells": [
  {
   "cell_type": "code",
   "execution_count": 59,
   "id": "0ff1cfa5",
   "metadata": {},
   "outputs": [],
   "source": [
    "import pandas as pd\n",
    "import numpy as np\n",
    "from sklearn.svm import SVC\n",
    "from sklearn.model_selection import train_test_split, GridSearchCV"
   ]
  },
  {
   "cell_type": "code",
   "execution_count": 60,
   "id": "860d2a3b",
   "metadata": {},
   "outputs": [],
   "source": [
    "# Load data\n",
    "df = pd.read_csv(\"/Users/mariahloehr/IICD/IICD/Data/top40_cell_cycle.csv\")\n",
    "\n",
    "df['phase'] = df['phase'].replace({'M': 'G2'})\n",
    "\n",
    "# Separate features and target\n",
    "X = df.drop(columns=['phase', 'age'])  # exclude phase and age\n",
    "y = df['phase']  # target is now age\n",
    "\n",
    "feature_names = X.columns.tolist()\n",
    "X = X.to_numpy()\n",
    "y = y.to_numpy()\n",
    "\n",
    "X_train, X_test, y_train, y_test = train_test_split(X, y, test_size=0.2, random_state=949, stratify = y)"
   ]
  },
  {
   "cell_type": "code",
   "execution_count": 84,
   "id": "dbceee6f",
   "metadata": {},
   "outputs": [
    {
     "name": "stdout",
     "output_type": "stream",
     "text": [
      "{'G1', 'S', 'G0', 'G2'}\n"
     ]
    }
   ],
   "source": [
    "n_ratio = 0.2\n",
    "N = len(X)\n",
    "\n",
    "n = int(np.round(n_ratio * N))\n",
    "r = np.random.RandomState()\n",
    "\n",
    "    ## index of minipatch\n",
    "idx_I = np.sort(r.choice(N, size=n, replace=False))\n",
    "y_mp = y[np.ix_(idx_I)]\n",
    "labels = set(y_mp)\n",
    "print(labels)"
   ]
  },
  {
   "cell_type": "code",
   "execution_count": null,
   "id": "f83cc478",
   "metadata": {},
   "outputs": [
    {
     "ename": "TypeError",
     "evalue": "Index(...) must be called with a collection of some kind, 1 was passed",
     "output_type": "error",
     "traceback": [
      "\u001b[31m---------------------------------------------------------------------------\u001b[39m",
      "\u001b[31mTypeError\u001b[39m                                 Traceback (most recent call last)",
      "\u001b[36mCell\u001b[39m\u001b[36m \u001b[39m\u001b[32mIn[74]\u001b[39m\u001b[32m, line 1\u001b[39m\n\u001b[32m----> \u001b[39m\u001b[32m1\u001b[39m \u001b[43mpd\u001b[49m\u001b[43m.\u001b[49m\u001b[43mDataFrame\u001b[49m\u001b[43m(\u001b[49m\u001b[43mindex\u001b[49m\u001b[43m \u001b[49m\u001b[43m=\u001b[49m\u001b[43m \u001b[49m\u001b[32;43m1\u001b[39;49m\u001b[43m,\u001b[49m\u001b[43m \u001b[49m\u001b[43mcolumns\u001b[49m\u001b[43m=\u001b[49m\u001b[38;5;28;43mlist\u001b[39;49m\u001b[43m(\u001b[49m\u001b[38;5;28;43msorted\u001b[39;49m\u001b[43m(\u001b[49m\u001b[43mnp\u001b[49m\u001b[43m.\u001b[49m\u001b[43munique\u001b[49m\u001b[43m(\u001b[49m\u001b[43my_mp\u001b[49m\u001b[43m)\u001b[49m\u001b[43m)\u001b[49m\u001b[43m)\u001b[49m\u001b[43m)\u001b[49m\n",
      "\u001b[36mFile \u001b[39m\u001b[32m~/IICD/IICD/sklearn-env/lib/python3.12/site-packages/pandas/core/frame.py:876\u001b[39m, in \u001b[36mDataFrame.__init__\u001b[39m\u001b[34m(self, data, index, columns, dtype, copy)\u001b[39m\n\u001b[32m    867\u001b[39m             mgr = ndarray_to_mgr(\n\u001b[32m    868\u001b[39m                 data,\n\u001b[32m    869\u001b[39m                 index,\n\u001b[32m   (...)\u001b[39m\u001b[32m    873\u001b[39m                 typ=manager,\n\u001b[32m    874\u001b[39m             )\n\u001b[32m    875\u001b[39m     \u001b[38;5;28;01melse\u001b[39;00m:\n\u001b[32m--> \u001b[39m\u001b[32m876\u001b[39m         mgr = \u001b[43mdict_to_mgr\u001b[49m\u001b[43m(\u001b[49m\n\u001b[32m    877\u001b[39m \u001b[43m            \u001b[49m\u001b[43m{\u001b[49m\u001b[43m}\u001b[49m\u001b[43m,\u001b[49m\n\u001b[32m    878\u001b[39m \u001b[43m            \u001b[49m\u001b[43mindex\u001b[49m\u001b[43m,\u001b[49m\n\u001b[32m    879\u001b[39m \u001b[43m            \u001b[49m\u001b[43mcolumns\u001b[49m\u001b[43m \u001b[49m\u001b[38;5;28;43;01mif\u001b[39;49;00m\u001b[43m \u001b[49m\u001b[43mcolumns\u001b[49m\u001b[43m \u001b[49m\u001b[38;5;129;43;01mis\u001b[39;49;00m\u001b[43m \u001b[49m\u001b[38;5;129;43;01mnot\u001b[39;49;00m\u001b[43m \u001b[49m\u001b[38;5;28;43;01mNone\u001b[39;49;00m\u001b[43m \u001b[49m\u001b[38;5;28;43;01melse\u001b[39;49;00m\u001b[43m \u001b[49m\u001b[43mdefault_index\u001b[49m\u001b[43m(\u001b[49m\u001b[32;43m0\u001b[39;49m\u001b[43m)\u001b[49m\u001b[43m,\u001b[49m\n\u001b[32m    880\u001b[39m \u001b[43m            \u001b[49m\u001b[43mdtype\u001b[49m\u001b[43m=\u001b[49m\u001b[43mdtype\u001b[49m\u001b[43m,\u001b[49m\n\u001b[32m    881\u001b[39m \u001b[43m            \u001b[49m\u001b[43mtyp\u001b[49m\u001b[43m=\u001b[49m\u001b[43mmanager\u001b[49m\u001b[43m,\u001b[49m\n\u001b[32m    882\u001b[39m \u001b[43m        \u001b[49m\u001b[43m)\u001b[49m\n\u001b[32m    883\u001b[39m \u001b[38;5;66;03m# For data is scalar\u001b[39;00m\n\u001b[32m    884\u001b[39m \u001b[38;5;28;01melse\u001b[39;00m:\n\u001b[32m    885\u001b[39m     \u001b[38;5;28;01mif\u001b[39;00m index \u001b[38;5;129;01mis\u001b[39;00m \u001b[38;5;28;01mNone\u001b[39;00m \u001b[38;5;129;01mor\u001b[39;00m columns \u001b[38;5;129;01mis\u001b[39;00m \u001b[38;5;28;01mNone\u001b[39;00m:\n",
      "\u001b[36mFile \u001b[39m\u001b[32m~/IICD/IICD/sklearn-env/lib/python3.12/site-packages/pandas/core/internals/construction.py:450\u001b[39m, in \u001b[36mdict_to_mgr\u001b[39m\u001b[34m(data, index, columns, dtype, typ, copy)\u001b[39m\n\u001b[32m    448\u001b[39m     index = _extract_index(arrays[~missing])\n\u001b[32m    449\u001b[39m \u001b[38;5;28;01melse\u001b[39;00m:\n\u001b[32m--> \u001b[39m\u001b[32m450\u001b[39m     index = \u001b[43mensure_index\u001b[49m\u001b[43m(\u001b[49m\u001b[43mindex\u001b[49m\u001b[43m)\u001b[49m\n\u001b[32m    452\u001b[39m \u001b[38;5;66;03m# no obvious \"empty\" int column\u001b[39;00m\n\u001b[32m    453\u001b[39m \u001b[38;5;28;01mif\u001b[39;00m missing.any() \u001b[38;5;129;01mand\u001b[39;00m \u001b[38;5;129;01mnot\u001b[39;00m is_integer_dtype(dtype):\n",
      "\u001b[36mFile \u001b[39m\u001b[32m~/IICD/IICD/sklearn-env/lib/python3.12/site-packages/pandas/core/indexes/base.py:7677\u001b[39m, in \u001b[36mensure_index\u001b[39m\u001b[34m(index_like, copy)\u001b[39m\n\u001b[32m   7675\u001b[39m         \u001b[38;5;28;01mreturn\u001b[39;00m Index(index_like, copy=copy, tupleize_cols=\u001b[38;5;28;01mFalse\u001b[39;00m)\n\u001b[32m   7676\u001b[39m \u001b[38;5;28;01melse\u001b[39;00m:\n\u001b[32m-> \u001b[39m\u001b[32m7677\u001b[39m     \u001b[38;5;28;01mreturn\u001b[39;00m \u001b[43mIndex\u001b[49m\u001b[43m(\u001b[49m\u001b[43mindex_like\u001b[49m\u001b[43m,\u001b[49m\u001b[43m \u001b[49m\u001b[43mcopy\u001b[49m\u001b[43m=\u001b[49m\u001b[43mcopy\u001b[49m\u001b[43m)\u001b[49m\n",
      "\u001b[36mFile \u001b[39m\u001b[32m~/IICD/IICD/sklearn-env/lib/python3.12/site-packages/pandas/core/indexes/base.py:527\u001b[39m, in \u001b[36mIndex.__new__\u001b[39m\u001b[34m(cls, data, dtype, copy, name, tupleize_cols)\u001b[39m\n\u001b[32m    524\u001b[39m         data = com.asarray_tuplesafe(data, dtype=_dtype_obj)\n\u001b[32m    526\u001b[39m \u001b[38;5;28;01melif\u001b[39;00m is_scalar(data):\n\u001b[32m--> \u001b[39m\u001b[32m527\u001b[39m     \u001b[38;5;28;01mraise\u001b[39;00m \u001b[38;5;28;43mcls\u001b[39;49m\u001b[43m.\u001b[49m\u001b[43m_raise_scalar_data_error\u001b[49m\u001b[43m(\u001b[49m\u001b[43mdata\u001b[49m\u001b[43m)\u001b[49m\n\u001b[32m    528\u001b[39m \u001b[38;5;28;01melif\u001b[39;00m \u001b[38;5;28mhasattr\u001b[39m(data, \u001b[33m\"\u001b[39m\u001b[33m__array__\u001b[39m\u001b[33m\"\u001b[39m):\n\u001b[32m    529\u001b[39m     \u001b[38;5;28;01mreturn\u001b[39;00m \u001b[38;5;28mcls\u001b[39m(np.asarray(data), dtype=dtype, copy=copy, name=name)\n",
      "\u001b[36mFile \u001b[39m\u001b[32m~/IICD/IICD/sklearn-env/lib/python3.12/site-packages/pandas/core/indexes/base.py:5299\u001b[39m, in \u001b[36mIndex._raise_scalar_data_error\u001b[39m\u001b[34m(cls, data)\u001b[39m\n\u001b[32m   5294\u001b[39m \u001b[38;5;129m@final\u001b[39m\n\u001b[32m   5295\u001b[39m \u001b[38;5;129m@classmethod\u001b[39m\n\u001b[32m   5296\u001b[39m \u001b[38;5;28;01mdef\u001b[39;00m\u001b[38;5;250m \u001b[39m\u001b[34m_raise_scalar_data_error\u001b[39m(\u001b[38;5;28mcls\u001b[39m, data):\n\u001b[32m   5297\u001b[39m     \u001b[38;5;66;03m# We return the TypeError so that we can raise it from the constructor\u001b[39;00m\n\u001b[32m   5298\u001b[39m     \u001b[38;5;66;03m#  in order to keep mypy happy\u001b[39;00m\n\u001b[32m-> \u001b[39m\u001b[32m5299\u001b[39m     \u001b[38;5;28;01mraise\u001b[39;00m \u001b[38;5;167;01mTypeError\u001b[39;00m(\n\u001b[32m   5300\u001b[39m         \u001b[33mf\u001b[39m\u001b[33m\"\u001b[39m\u001b[38;5;132;01m{\u001b[39;00m\u001b[38;5;28mcls\u001b[39m.\u001b[34m__name__\u001b[39m\u001b[38;5;132;01m}\u001b[39;00m\u001b[33m(...) must be called with a collection of some \u001b[39m\u001b[33m\"\u001b[39m\n\u001b[32m   5301\u001b[39m         \u001b[33mf\u001b[39m\u001b[33m\"\u001b[39m\u001b[33mkind, \u001b[39m\u001b[38;5;132;01m{\u001b[39;00m\u001b[38;5;28mrepr\u001b[39m(data)\u001b[38;5;250m \u001b[39m\u001b[38;5;28;01mif\u001b[39;00m\u001b[38;5;250m \u001b[39m\u001b[38;5;129;01mnot\u001b[39;00m\u001b[38;5;250m \u001b[39m\u001b[38;5;28misinstance\u001b[39m(data,\u001b[38;5;250m \u001b[39mnp.generic)\u001b[38;5;250m \u001b[39m\u001b[38;5;28;01melse\u001b[39;00m\u001b[38;5;250m \u001b[39m\u001b[38;5;28mstr\u001b[39m(data)\u001b[38;5;132;01m}\u001b[39;00m\u001b[33m \u001b[39m\u001b[33m\"\u001b[39m\n\u001b[32m   5302\u001b[39m         \u001b[33m\"\u001b[39m\u001b[33mwas passed\u001b[39m\u001b[33m\"\u001b[39m\n\u001b[32m   5303\u001b[39m     )\n",
      "\u001b[31mTypeError\u001b[39m: Index(...) must be called with a collection of some kind, 1 was passed"
     ]
    }
   ],
   "source": [
    "pd.DataFrame(columns=list(sorted(np.unique(y_mp))))"
   ]
  },
  {
   "cell_type": "markdown",
   "id": "7860179f",
   "metadata": {},
   "source": [
    "LOCO"
   ]
  },
  {
   "cell_type": "code",
   "execution_count": 75,
   "id": "c3ed0643",
   "metadata": {},
   "outputs": [],
   "source": [
    "import sys\n",
    "sys.path.append(\"/Users/mariahloehr/IICD/IICD/feature_importance\")"
   ]
  },
  {
   "cell_type": "code",
   "execution_count": 76,
   "id": "f57b29da",
   "metadata": {},
   "outputs": [],
   "source": [
    "import locomp\n",
    "from locomp import *\n",
    "from locomp.MLmodels import *\n",
    "import itertools\n",
    "import importlib\n",
    "from sklearn.base import BaseEstimator, RegressorMixin, clone\n",
    "import itertools\n",
    "from functools import partial\n",
    "import multiprocessing as mp\n",
    "import re"
   ]
  },
  {
   "cell_type": "code",
   "execution_count": 77,
   "id": "77c916e4",
   "metadata": {},
   "outputs": [],
   "source": [
    "# define fit_func\n",
    "def SVM(X,Y):\n",
    "    svc = SVC(kernel='rbf', random_state=949, probability=True, C = 400, gamma = 0.001).fit(X, Y) \n",
    "    #svc.classes_ = list(svc.classes_)   \n",
    "    return svc"
   ]
  },
  {
   "cell_type": "code",
   "execution_count": 78,
   "id": "0403a934",
   "metadata": {},
   "outputs": [],
   "source": [
    "J1 = 0\n",
    "J2 = 1\n",
    "m_ratio = 0.2\n",
    "n_ratio = 0.2\n",
    "B = 5000\n",
    "fit_func = SVM"
   ]
  },
  {
   "cell_type": "code",
   "execution_count": 79,
   "id": "3b474f51",
   "metadata": {},
   "outputs": [
    {
     "name": "stderr",
     "output_type": "stream",
     "text": [
      "/Users/mariahloehr/IICD/IICD/feature_importance/locomp/util_locomp.py:32: FutureWarning: DataFrameGroupBy.apply operated on the grouping columns. This behavior is deprecated, and in a future version of pandas the grouping columns will be excluded from the operation. Either pass `include_groups=False` to exclude the groupings or explicitly select the grouping columns after groupby to silence this warning.\n",
      "  idx_I =Y_pd.groupby(0, group_keys=False).apply(lambda x: x.sample(frac=n_ratio))\n"
     ]
    },
    {
     "ename": "ValueError",
     "evalue": "columns cannot be a set",
     "output_type": "error",
     "traceback": [
      "\u001b[31m---------------------------------------------------------------------------\u001b[39m",
      "\u001b[31mValueError\u001b[39m                                Traceback (most recent call last)",
      "\u001b[32m/var/folders/1s/bvxr71hj0hqgyk_jk6k7wkm80000gn/T/ipykernel_62436/3365003135.py\u001b[39m in \u001b[36m?\u001b[39m\u001b[34m()\u001b[39m\n\u001b[32m      1\u001b[39m x=LOCOMPClass(X_train,y_train,n_ratio,m_ratio,B,fit_func, selected_features=[],alpha=\u001b[32m0.1\u001b[39m,bonf=\u001b[38;5;28;01mFalse\u001b[39;00m)\n\u001b[32m----> \u001b[39m\u001b[32m2\u001b[39m x.run_loco()\n",
      "\u001b[32m~/IICD/IICD/feature_importance/locomp/_loco_classification.py\u001b[39m in \u001b[36m?\u001b[39m\u001b[34m(self, *args, **kwargs)\u001b[39m\n\u001b[32m     57\u001b[39m         N=len(self.X)\n\u001b[32m     58\u001b[39m         M = len(self.X[\u001b[32m0\u001b[39m])\n\u001b[32m     59\u001b[39m         clas=np.unique(self.Y)\n\u001b[32m     60\u001b[39m \n\u001b[32m---> \u001b[39m\u001b[32m61\u001b[39m         [predictions,in_mp_obs,in_mp_feature]= predictMPClass(self.X,self.Y,self.X,self.n_ratio,self.m_ratio,self.B,self.fit_func)\n\u001b[32m     62\u001b[39m         zeros=\u001b[38;5;28;01mFalse\u001b[39;00m\n\u001b[32m     63\u001b[39m \n\u001b[32m     64\u001b[39m         \u001b[38;5;66;03m#############################\u001b[39;00m\n",
      "\u001b[32m~/IICD/IICD/feature_importance/locomp/util_locomp.py\u001b[39m in \u001b[36m?\u001b[39m\u001b[34m(X, Y, X1, n_ratio, m_ratio, B, fit_func)\u001b[39m\n\u001b[32m     62\u001b[39m     predictions=[]\n\u001b[32m     63\u001b[39m     \u001b[38;5;28;01mfor\u001b[39;00m b \u001b[38;5;28;01min\u001b[39;00m range(B):\n\u001b[32m     64\u001b[39m         [idx_I,idx_F,x_mp,y_mp] = buildMPClass(X,Y,n_ratio,m_ratio)\n\u001b[32m     65\u001b[39m         model = fit_func(x_mp,y_mp)\n\u001b[32m---> \u001b[39m\u001b[32m66\u001b[39m         prob = pd.DataFrame(model.predict_proba(X1[:, idx_F]), columns=set(y_mp))\n\u001b[32m     67\u001b[39m         \u001b[38;5;28;01mfor\u001b[39;00m i \u001b[38;5;28;01min\u001b[39;00m (clas):\n\u001b[32m     68\u001b[39m             \u001b[38;5;28;01mif\u001b[39;00m i \u001b[38;5;28;01mnot\u001b[39;00m \u001b[38;5;28;01min\u001b[39;00m prob.columns:\n\u001b[32m     69\u001b[39m                 prob[i]=\u001b[32m0\u001b[39m\n",
      "\u001b[32m~/IICD/IICD/sklearn-env/lib/python3.12/site-packages/pandas/core/frame.py\u001b[39m in \u001b[36m?\u001b[39m\u001b[34m(self, data, index, columns, dtype, copy)\u001b[39m\n\u001b[32m    740\u001b[39m         \u001b[38;5;66;03m# GH47215\u001b[39;00m\n\u001b[32m    741\u001b[39m         \u001b[38;5;28;01mif\u001b[39;00m isinstance(index, set):\n\u001b[32m    742\u001b[39m             \u001b[38;5;28;01mraise\u001b[39;00m ValueError(\u001b[33m\"index cannot be a set\"\u001b[39m)\n\u001b[32m    743\u001b[39m         \u001b[38;5;28;01mif\u001b[39;00m isinstance(columns, set):\n\u001b[32m--> \u001b[39m\u001b[32m744\u001b[39m             \u001b[38;5;28;01mraise\u001b[39;00m ValueError(\u001b[33m\"columns cannot be a set\"\u001b[39m)\n\u001b[32m    745\u001b[39m \n\u001b[32m    746\u001b[39m         \u001b[38;5;28;01mif\u001b[39;00m copy \u001b[38;5;28;01mis\u001b[39;00m \u001b[38;5;28;01mNone\u001b[39;00m:\n\u001b[32m    747\u001b[39m             \u001b[38;5;28;01mif\u001b[39;00m isinstance(data, dict):\n",
      "\u001b[31mValueError\u001b[39m: columns cannot be a set"
     ]
    }
   ],
   "source": [
    "x=LOCOMPClass(X_train,y_train,n_ratio,m_ratio,B,fit_func, selected_features=[],alpha=0.1,bonf=False)\n",
    "x.run_loco()"
   ]
  }
 ],
 "metadata": {
  "kernelspec": {
   "display_name": "sklearn-env",
   "language": "python",
   "name": "python3"
  },
  "language_info": {
   "codemirror_mode": {
    "name": "ipython",
    "version": 3
   },
   "file_extension": ".py",
   "mimetype": "text/x-python",
   "name": "python",
   "nbconvert_exporter": "python",
   "pygments_lexer": "ipython3",
   "version": "3.12.7"
  }
 },
 "nbformat": 4,
 "nbformat_minor": 5
}
