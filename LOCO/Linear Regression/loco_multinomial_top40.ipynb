{
 "cells": [
  {
   "cell_type": "code",
   "execution_count": 1,
   "id": "05f4e7a6",
   "metadata": {},
   "outputs": [],
   "source": [
    "import pandas as pd\n",
    "from sklearn.model_selection import train_test_split\n",
    "from sklearn.linear_model import LogisticRegression\n",
    "from sklearn.metrics import accuracy_score, classification_report, confusion_matrix"
   ]
  },
  {
   "cell_type": "code",
   "execution_count": 9,
   "id": "bea9fa77",
   "metadata": {},
   "outputs": [],
   "source": [
    "# Load data\n",
    "df = pd.read_csv(\"/Users/mariahloehr/IICD/IICD/Data/top40_cell_cycle.csv\")\n",
    "\n",
    "# Combine 'M' and 'G2' into one class, if desired (optional)\n",
    "df['phase'] = df['phase'].replace({'M': 'G2'})\n",
    "\n",
    "# Define features and target\n",
    "X = df.drop(columns=['phase', 'age'])\n",
    "y = df['phase']\n",
    "\n",
    "feature_names = X.columns.tolist()\n",
    "X = X.to_numpy()\n",
    "y = y.to_numpy()\n",
    "\n",
    "# Split into training and testing set (optional, for evaluation)\n",
    "X_train, X_test, y_train, y_test = train_test_split(X, y, test_size=0.2, random_state=949, stratify=y)"
   ]
  },
  {
   "cell_type": "markdown",
   "id": "4cbfdced",
   "metadata": {},
   "source": [
    "LOCO"
   ]
  },
  {
   "cell_type": "code",
   "execution_count": 4,
   "id": "ad5ab324",
   "metadata": {},
   "outputs": [],
   "source": [
    "import sys\n",
    "sys.path.append(\"/Users/mariahloehr/IICD/IICD/feature_importance\")"
   ]
  },
  {
   "cell_type": "code",
   "execution_count": 5,
   "id": "7ec8082b",
   "metadata": {},
   "outputs": [],
   "source": [
    "import locomp\n",
    "from locomp import *\n",
    "from locomp.MLmodels import *\n",
    "import itertools\n",
    "import importlib\n",
    "from sklearn.base import BaseEstimator, RegressorMixin, clone\n",
    "import itertools\n",
    "from functools import partial\n",
    "import multiprocessing as mp\n",
    "import re"
   ]
  },
  {
   "cell_type": "code",
   "execution_count": 15,
   "id": "bbe594cf",
   "metadata": {},
   "outputs": [],
   "source": [
    "# define fit_func\n",
    "def mlr(X,Y,X1):\n",
    "    clf = LogisticRegression(\n",
    "    multi_class='multinomial',\n",
    "    solver='lbfgs',  # good for multinomial\n",
    "    max_iter=1000,\n",
    "    C=1.0,  # inverse of regularization strength\n",
    "    random_state=949\n",
    ").fit(X, Y)    \n",
    "    return clf.predict(X1)"
   ]
  },
  {
   "cell_type": "code",
   "execution_count": 12,
   "id": "81ca6d6d",
   "metadata": {},
   "outputs": [],
   "source": [
    "J1 = 0\n",
    "J2 = 1\n",
    "m_ratio = 0.2\n",
    "n_ratio = 0.2\n",
    "B = 5000\n",
    "fit_func = mlr"
   ]
  },
  {
   "cell_type": "code",
   "execution_count": 16,
   "id": "49381f6b",
   "metadata": {},
   "outputs": [
    {
     "name": "stderr",
     "output_type": "stream",
     "text": [
      "/Users/mariahloehr/IICD/IICD/feature_importance/locomp/util_locomp.py:32: FutureWarning: DataFrameGroupBy.apply operated on the grouping columns. This behavior is deprecated, and in a future version of pandas the grouping columns will be excluded from the operation. Either pass `include_groups=False` to exclude the groupings or explicitly select the grouping columns after groupby to silence this warning.\n",
      "  idx_I =Y_pd.groupby(0, group_keys=False).apply(lambda x: x.sample(frac=n_ratio))\n"
     ]
    },
    {
     "ename": "TypeError",
     "evalue": "mlr() missing 1 required positional argument: 'X1'",
     "output_type": "error",
     "traceback": [
      "\u001b[31m---------------------------------------------------------------------------\u001b[39m",
      "\u001b[31mTypeError\u001b[39m                                 Traceback (most recent call last)",
      "\u001b[36mCell\u001b[39m\u001b[36m \u001b[39m\u001b[32mIn[16]\u001b[39m\u001b[32m, line 2\u001b[39m\n\u001b[32m      1\u001b[39m x=LOCOMPClass(X_train,y_train,n_ratio,m_ratio,B,fit_func, selected_features=[],alpha=\u001b[32m0.1\u001b[39m,bonf=\u001b[38;5;28;01mFalse\u001b[39;00m)\n\u001b[32m----> \u001b[39m\u001b[32m2\u001b[39m \u001b[43mx\u001b[49m\u001b[43m.\u001b[49m\u001b[43mrun_loco\u001b[49m\u001b[43m(\u001b[49m\u001b[43m)\u001b[49m\n",
      "\u001b[36mFile \u001b[39m\u001b[32m~/IICD/IICD/feature_importance/locomp/_loco_classification.py:61\u001b[39m, in \u001b[36mLOCOMPClass.run_loco\u001b[39m\u001b[34m(self, *args, **kwargs)\u001b[39m\n\u001b[32m     58\u001b[39m M = \u001b[38;5;28mlen\u001b[39m(\u001b[38;5;28mself\u001b[39m.X[\u001b[32m0\u001b[39m])\n\u001b[32m     59\u001b[39m clas=np.unique(\u001b[38;5;28mself\u001b[39m.Y)\n\u001b[32m---> \u001b[39m\u001b[32m61\u001b[39m [predictions,in_mp_obs,in_mp_feature]= \u001b[43mpredictMPClass\u001b[49m\u001b[43m(\u001b[49m\u001b[38;5;28;43mself\u001b[39;49m\u001b[43m.\u001b[49m\u001b[43mX\u001b[49m\u001b[43m,\u001b[49m\u001b[38;5;28;43mself\u001b[39;49m\u001b[43m.\u001b[49m\u001b[43mY\u001b[49m\u001b[43m,\u001b[49m\u001b[38;5;28;43mself\u001b[39;49m\u001b[43m.\u001b[49m\u001b[43mX\u001b[49m\u001b[43m,\u001b[49m\u001b[38;5;28;43mself\u001b[39;49m\u001b[43m.\u001b[49m\u001b[43mn_ratio\u001b[49m\u001b[43m,\u001b[49m\u001b[38;5;28;43mself\u001b[39;49m\u001b[43m.\u001b[49m\u001b[43mm_ratio\u001b[49m\u001b[43m,\u001b[49m\u001b[38;5;28;43mself\u001b[39;49m\u001b[43m.\u001b[49m\u001b[43mB\u001b[49m\u001b[43m,\u001b[49m\u001b[38;5;28;43mself\u001b[39;49m\u001b[43m.\u001b[49m\u001b[43mfit_func\u001b[49m\u001b[43m)\u001b[49m\n\u001b[32m     62\u001b[39m zeros=\u001b[38;5;28;01mFalse\u001b[39;00m\n\u001b[32m     64\u001b[39m \u001b[38;5;66;03m#############################\u001b[39;00m\n\u001b[32m     65\u001b[39m \u001b[38;5;66;03m## Find LOO\u001b[39;00m\n\u001b[32m     66\u001b[39m \u001b[38;5;66;03m############################\u001b[39;00m\n",
      "\u001b[36mFile \u001b[39m\u001b[32m~/IICD/IICD/feature_importance/locomp/util_locomp.py:65\u001b[39m, in \u001b[36mpredictMPClass\u001b[39m\u001b[34m(X, Y, X1, n_ratio, m_ratio, B, fit_func)\u001b[39m\n\u001b[32m     63\u001b[39m \u001b[38;5;28;01mfor\u001b[39;00m b \u001b[38;5;129;01min\u001b[39;00m \u001b[38;5;28mrange\u001b[39m(B):\n\u001b[32m     64\u001b[39m     [idx_I,idx_F,x_mp,y_mp] = buildMPClass(X,Y,n_ratio,m_ratio)\n\u001b[32m---> \u001b[39m\u001b[32m65\u001b[39m     model = \u001b[43mfit_func\u001b[49m\u001b[43m(\u001b[49m\u001b[43mx_mp\u001b[49m\u001b[43m,\u001b[49m\u001b[43my_mp\u001b[49m\u001b[43m)\u001b[49m\n\u001b[32m     66\u001b[39m     prob = pd.DataFrame(model.predict_proba(X1[:, idx_F]), columns=\u001b[38;5;28mset\u001b[39m(y_mp))\n\u001b[32m     67\u001b[39m     \u001b[38;5;28;01mfor\u001b[39;00m i \u001b[38;5;129;01min\u001b[39;00m (clas):\n",
      "\u001b[31mTypeError\u001b[39m: mlr() missing 1 required positional argument: 'X1'"
     ]
    }
   ],
   "source": [
    "x=LOCOMPClass(X_train,y_train,n_ratio,m_ratio,B,fit_func, selected_features=[],alpha=0.1,bonf=False)\n",
    "x.run_loco()"
   ]
  }
 ],
 "metadata": {
  "kernelspec": {
   "display_name": "sklearn-env",
   "language": "python",
   "name": "python3"
  },
  "language_info": {
   "codemirror_mode": {
    "name": "ipython",
    "version": 3
   },
   "file_extension": ".py",
   "mimetype": "text/x-python",
   "name": "python",
   "nbconvert_exporter": "python",
   "pygments_lexer": "ipython3",
   "version": "3.12.7"
  }
 },
 "nbformat": 4,
 "nbformat_minor": 5
}
