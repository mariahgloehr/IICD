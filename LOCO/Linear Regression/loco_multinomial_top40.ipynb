{
 "cells": [
  {
   "cell_type": "code",
   "execution_count": 1,
   "id": "05f4e7a6",
   "metadata": {},
   "outputs": [],
   "source": [
    "import pandas as pd\n",
    "from sklearn.model_selection import train_test_split\n",
    "from sklearn.linear_model import LogisticRegression\n",
    "from sklearn.metrics import accuracy_score, classification_report, confusion_matrix"
   ]
  },
  {
   "cell_type": "code",
   "execution_count": 22,
   "id": "bea9fa77",
   "metadata": {},
   "outputs": [],
   "source": [
    "# Load data\n",
    "df = pd.read_csv(\"/Users/mariahloehr/IICD/IICD/Data/top40_cell_cycle.csv\")\n",
    "\n",
    "# Combine 'M' and 'G2' into one class, if desired (optional)\n",
    "df['phase'] = df['phase'].replace({'M': 'G2'})\n",
    "\n",
    "# Define features and target\n",
    "X = df.drop(columns=['phase', 'age'])\n",
    "y = df['phase']\n",
    "\n",
    "feature_names = X.columns.tolist()\n",
    "X = X.to_numpy()\n",
    "y = y.to_numpy()\n",
    "\n",
    "# Split into training and testing set (optional, for evaluation)\n",
    "X_train, X_test, y_train, y_test = train_test_split(X, y, test_size=0.2, random_state=949, stratify=y)"
   ]
  },
  {
   "cell_type": "markdown",
   "id": "4cbfdced",
   "metadata": {},
   "source": [
    "LOCO"
   ]
  },
  {
   "cell_type": "code",
   "execution_count": 24,
   "id": "ad5ab324",
   "metadata": {},
   "outputs": [],
   "source": [
    "import sys\n",
    "sys.path.append(\"/Users/mariahloehr/IICD/IICD/feature_importance\")"
   ]
  },
  {
   "cell_type": "code",
   "execution_count": 25,
   "id": "7ec8082b",
   "metadata": {},
   "outputs": [],
   "source": [
    "import locomp\n",
    "from locomp import *\n",
    "from locomp.MLmodels import *\n",
    "import itertools\n",
    "import importlib\n",
    "from sklearn.base import BaseEstimator, RegressorMixin, clone\n",
    "import itertools\n",
    "from functools import partial\n",
    "import multiprocessing as mp\n",
    "import re"
   ]
  },
  {
   "cell_type": "code",
   "execution_count": null,
   "id": "bbe594cf",
   "metadata": {},
   "outputs": [],
   "source": [
    "# define fit_func\n",
    "def mlr(X,Y):\n",
    "    mlr = LogisticRegression(\n",
    "    multi_class='multinomial',\n",
    "    solver='lbfgs',\n",
    "    max_iter=1000,\n",
    "    C=1.0, \n",
    "    random_state=949\n",
    "                    ).fit(X, Y)    \n",
    "    return mlr"
   ]
  },
  {
   "cell_type": "code",
   "execution_count": 27,
   "id": "81ca6d6d",
   "metadata": {},
   "outputs": [],
   "source": [
    "J1 = 0\n",
    "J2 = 1\n",
    "m_ratio = 0.2\n",
    "n_ratio = 0.2\n",
    "B = 5000\n",
    "fit_func = mlr"
   ]
  },
  {
   "cell_type": "code",
   "execution_count": 28,
   "id": "49381f6b",
   "metadata": {},
   "outputs": [
    {
     "name": "stderr",
     "output_type": "stream",
     "text": [
      "/Users/mariahloehr/IICD/IICD/feature_importance/locomp/util_locomp.py:32: FutureWarning: DataFrameGroupBy.apply operated on the grouping columns. This behavior is deprecated, and in a future version of pandas the grouping columns will be excluded from the operation. Either pass `include_groups=False` to exclude the groupings or explicitly select the grouping columns after groupby to silence this warning.\n",
      "  idx_I =Y_pd.groupby(0, group_keys=False).apply(lambda x: x.sample(frac=n_ratio))\n",
      "/Users/mariahloehr/IICD/IICD/sklearn-env/lib/python3.12/site-packages/sklearn/linear_model/_logistic.py:1264: FutureWarning: 'multi_class' was deprecated in version 1.5 and will be removed in 1.7. From then on, it will always use 'multinomial'. Leave it to its default value to avoid this warning.\n",
      "  warnings.warn(\n"
     ]
    },
    {
     "ename": "ValueError",
     "evalue": "columns cannot be a set",
     "output_type": "error",
     "traceback": [
      "\u001b[31m---------------------------------------------------------------------------\u001b[39m",
      "\u001b[31mValueError\u001b[39m                                Traceback (most recent call last)",
      "\u001b[32m/var/folders/1s/bvxr71hj0hqgyk_jk6k7wkm80000gn/T/ipykernel_61624/3365003135.py\u001b[39m in \u001b[36m?\u001b[39m\u001b[34m()\u001b[39m\n\u001b[32m      1\u001b[39m x=LOCOMPClass(X_train,y_train,n_ratio,m_ratio,B,fit_func, selected_features=[],alpha=\u001b[32m0.1\u001b[39m,bonf=\u001b[38;5;28;01mFalse\u001b[39;00m)\n\u001b[32m----> \u001b[39m\u001b[32m2\u001b[39m x.run_loco()\n",
      "\u001b[32m~/IICD/IICD/feature_importance/locomp/_loco_classification.py\u001b[39m in \u001b[36m?\u001b[39m\u001b[34m(self, *args, **kwargs)\u001b[39m\n\u001b[32m     57\u001b[39m         N=len(self.X)\n\u001b[32m     58\u001b[39m         M = len(self.X[\u001b[32m0\u001b[39m])\n\u001b[32m     59\u001b[39m         clas=np.unique(self.Y)\n\u001b[32m     60\u001b[39m \n\u001b[32m---> \u001b[39m\u001b[32m61\u001b[39m         [predictions,in_mp_obs,in_mp_feature]= predictMPClass(self.X,self.Y,self.X,self.n_ratio,self.m_ratio,self.B,self.fit_func)\n\u001b[32m     62\u001b[39m         zeros=\u001b[38;5;28;01mFalse\u001b[39;00m\n\u001b[32m     63\u001b[39m \n\u001b[32m     64\u001b[39m         \u001b[38;5;66;03m#############################\u001b[39;00m\n",
      "\u001b[32m~/IICD/IICD/feature_importance/locomp/util_locomp.py\u001b[39m in \u001b[36m?\u001b[39m\u001b[34m(X, Y, X1, n_ratio, m_ratio, B, fit_func)\u001b[39m\n\u001b[32m     62\u001b[39m     predictions=[]\n\u001b[32m     63\u001b[39m     \u001b[38;5;28;01mfor\u001b[39;00m b \u001b[38;5;28;01min\u001b[39;00m range(B):\n\u001b[32m     64\u001b[39m         [idx_I,idx_F,x_mp,y_mp] = buildMPClass(X,Y,n_ratio,m_ratio)\n\u001b[32m     65\u001b[39m         model = fit_func(x_mp,y_mp)\n\u001b[32m---> \u001b[39m\u001b[32m66\u001b[39m         prob = pd.DataFrame(model.predict_proba(X1[:, idx_F]), columns=sorted(set(y_mp)))\n\u001b[32m     67\u001b[39m         \u001b[38;5;28;01mfor\u001b[39;00m i \u001b[38;5;28;01min\u001b[39;00m (clas):\n\u001b[32m     68\u001b[39m             \u001b[38;5;28;01mif\u001b[39;00m i \u001b[38;5;28;01mnot\u001b[39;00m \u001b[38;5;28;01min\u001b[39;00m prob.columns:\n\u001b[32m     69\u001b[39m                 prob[i]=\u001b[32m0\u001b[39m\n",
      "\u001b[32m~/IICD/IICD/sklearn-env/lib/python3.12/site-packages/pandas/core/frame.py\u001b[39m in \u001b[36m?\u001b[39m\u001b[34m(self, data, index, columns, dtype, copy)\u001b[39m\n\u001b[32m    740\u001b[39m         \u001b[38;5;66;03m# GH47215\u001b[39;00m\n\u001b[32m    741\u001b[39m         \u001b[38;5;28;01mif\u001b[39;00m isinstance(index, set):\n\u001b[32m    742\u001b[39m             \u001b[38;5;28;01mraise\u001b[39;00m ValueError(\u001b[33m\"index cannot be a set\"\u001b[39m)\n\u001b[32m    743\u001b[39m         \u001b[38;5;28;01mif\u001b[39;00m isinstance(columns, set):\n\u001b[32m--> \u001b[39m\u001b[32m744\u001b[39m             \u001b[38;5;28;01mraise\u001b[39;00m ValueError(\u001b[33m\"columns cannot be a set\"\u001b[39m)\n\u001b[32m    745\u001b[39m \n\u001b[32m    746\u001b[39m         \u001b[38;5;28;01mif\u001b[39;00m copy \u001b[38;5;28;01mis\u001b[39;00m \u001b[38;5;28;01mNone\u001b[39;00m:\n\u001b[32m    747\u001b[39m             \u001b[38;5;28;01mif\u001b[39;00m isinstance(data, dict):\n",
      "\u001b[31mValueError\u001b[39m: columns cannot be a set"
     ]
    }
   ],
   "source": [
    "x=LOCOMPClass(X_train,y_train,n_ratio,m_ratio,B,fit_func, selected_features=[],alpha=0.1,bonf=False)\n",
    "x.run_loco()"
   ]
  }
 ],
 "metadata": {
  "kernelspec": {
   "display_name": "sklearn-env",
   "language": "python",
   "name": "python3"
  },
  "language_info": {
   "codemirror_mode": {
    "name": "ipython",
    "version": 3
   },
   "file_extension": ".py",
   "mimetype": "text/x-python",
   "name": "python",
   "nbconvert_exporter": "python",
   "pygments_lexer": "ipython3",
   "version": "3.12.7"
  }
 },
 "nbformat": 4,
 "nbformat_minor": 5
}
