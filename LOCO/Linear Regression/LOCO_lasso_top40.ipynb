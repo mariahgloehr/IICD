{
 "cells": [
  {
   "cell_type": "code",
   "execution_count": 1,
   "id": "cb99e3b7",
   "metadata": {},
   "outputs": [],
   "source": [
    "import pandas as pd\n",
    "import numpy as np\n",
    "import matplotlib.pyplot as plt\n",
    "import seaborn as sns\n",
    "from sklearn.linear_model import LassoCV, Lasso\n",
    "from sklearn.model_selection import KFold, train_test_split\n",
    "from sklearn.metrics import mean_squared_error, root_mean_squared_error"
   ]
  },
  {
   "cell_type": "code",
   "execution_count": 11,
   "id": "9035e6ae",
   "metadata": {},
   "outputs": [],
   "source": [
    "# Load data\n",
    "df = pd.read_csv(\"/Users/mariahloehr/IICD/IICD/Data/top40_cell_cycle.csv\")\n",
    "\n",
    "# Separate features and target\n",
    "X = df.drop(columns=['phase', 'age'])  # drop non-feature columns\n",
    "y = df['age']\n",
    "\n",
    "feature_names = X.columns.tolist()\n",
    "X = X.to_numpy()\n",
    "y = y.to_numpy()"
   ]
  },
  {
   "cell_type": "code",
   "execution_count": 12,
   "id": "ce30b142",
   "metadata": {},
   "outputs": [],
   "source": [
    "# Train-test split\n",
    "X_train, X_test, y_train, y_test = train_test_split(X, y, test_size=0.2, random_state=949)"
   ]
  },
  {
   "cell_type": "code",
   "execution_count": 4,
   "id": "25b67947",
   "metadata": {},
   "outputs": [],
   "source": [
    "# Retrain with alpha = 0.01\n",
    "lasso_best_alpha = Lasso(alpha =0.01, random_state=949, max_iter = 1000)\n",
    "lasso_best_alpha.fit(X_train, y_train)\n",
    "\n",
    "best_alpha_y_train_pred = lasso_best_alpha.predict(X_train)\n",
    "best_alpha_y_test_pred = lasso_best_alpha.predict(X_test)"
   ]
  },
  {
   "cell_type": "markdown",
   "id": "96d40569",
   "metadata": {},
   "source": [
    "LOCO"
   ]
  },
  {
   "cell_type": "code",
   "execution_count": 4,
   "id": "816a6a2e",
   "metadata": {},
   "outputs": [],
   "source": [
    "import sys\n",
    "sys.path.append(\"/Users/mariahloehr/IICD/IICD/feature_importance\")"
   ]
  },
  {
   "cell_type": "code",
   "execution_count": 5,
   "id": "939c2670",
   "metadata": {},
   "outputs": [],
   "source": [
    "import locomp\n",
    "from locomp import *\n",
    "from locomp.MLmodels import *\n",
    "import itertools\n",
    "import importlib\n",
    "from sklearn.base import BaseEstimator, RegressorMixin, clone\n",
    "import itertools\n",
    "from functools import partial\n",
    "import multiprocessing as mp\n",
    "import re"
   ]
  },
  {
   "cell_type": "code",
   "execution_count": 6,
   "id": "cfd9d382",
   "metadata": {},
   "outputs": [],
   "source": [
    "# define fit_func\n",
    "def lasso(X,Y,X1):\n",
    "    clf = Lasso(fit_intercept = False, alpha =0.01, random_state=949, max_iter = 10000).fit(X, Y)    \n",
    "    return clf.predict(X1)"
   ]
  },
  {
   "cell_type": "code",
   "execution_count": 7,
   "id": "b39464c4",
   "metadata": {},
   "outputs": [],
   "source": [
    "J1 = 0\n",
    "J2 = 1\n",
    "m_ratio = 0.2\n",
    "n_ratio = 0.2\n",
    "B = 5000\n",
    "fit_func = lasso"
   ]
  },
  {
   "cell_type": "code",
   "execution_count": 13,
   "id": "343947f3",
   "metadata": {},
   "outputs": [],
   "source": [
    "x=LOCOMPReg(X_train,y_train,n_ratio,m_ratio,B,fit_func, selected_features=[],alpha=0.1,bonf=False)\n",
    "x.run_loco()"
   ]
  },
  {
   "cell_type": "code",
   "execution_count": 14,
   "id": "3fc32dbd",
   "metadata": {},
   "outputs": [
    {
     "data": {
      "text/plain": [
       "array([[ 2.74522258e-01,  5.49044515e-01, -1.04556573e-03,\n",
       "         2.24384144e-03,  5.99137856e-04],\n",
       "       [ 3.06746898e-01,  6.13493797e-01, -4.37058678e-03,\n",
       "         8.24429539e-03,  1.93685431e-03],\n",
       "       [ 6.89607036e-01,  6.20785927e-01, -2.60191857e-03,\n",
       "         1.39863701e-03, -6.01640779e-04],\n",
       "       [ 4.97064374e-01,  9.94128748e-01, -1.37107737e-03,\n",
       "         1.38340009e-03,  6.16135961e-06],\n",
       "       [ 2.50053657e-01,  5.00107314e-01, -3.54576062e-03,\n",
       "         8.47291141e-03,  2.46357540e-03],\n",
       "       [ 6.68727326e-01,  6.62545349e-01, -4.60744144e-03,\n",
       "         2.67524693e-03, -9.66097256e-04],\n",
       "       [ 2.05159230e-01,  4.10318460e-01, -1.43162031e-03,\n",
       "         4.30117993e-03,  1.43477981e-03],\n",
       "       [ 4.06626124e-01,  8.13252249e-01, -5.44806403e-03,\n",
       "         7.27539697e-03,  9.13666470e-04],\n",
       "       [ 3.12753673e-01,  6.25507345e-01, -1.53870504e-03,\n",
       "         2.83708766e-03,  6.49191312e-04],\n",
       "       [ 5.37341221e-01,  9.25317559e-01, -2.03582209e-03,\n",
       "         1.81629587e-03, -1.09763110e-04],\n",
       "       [ 4.09670551e-01,  8.19341102e-01, -2.63030751e-03,\n",
       "         3.47853774e-03,  4.24115118e-04],\n",
       "       [ 7.15632257e-01,  5.68735485e-01, -5.06559347e-03,\n",
       "         2.45858801e-03, -1.30350273e-03],\n",
       "       [ 5.22150121e-01,  9.55699758e-01, -8.91344850e-04,\n",
       "         8.33105983e-04, -2.91194332e-05],\n",
       "       [ 7.39444055e-01,  5.21111890e-01, -2.15566145e-03,\n",
       "         9.45820483e-04, -6.04920483e-04],\n",
       "       [ 3.11116811e-01,  6.22233622e-01, -2.26960564e-03,\n",
       "         4.21065447e-03,  9.70524418e-04],\n",
       "       [ 3.23597831e-01,  6.47195662e-01, -2.45281397e-03,\n",
       "         4.34392906e-03,  9.45557544e-04],\n",
       "       [ 6.34652292e-01,  7.30695417e-01, -1.44050757e-03,\n",
       "         9.41955456e-04, -2.49276056e-04],\n",
       "       [ 2.79858951e-01,  5.59717903e-01, -1.45434899e-03,\n",
       "         3.05244613e-03,  7.99048572e-04],\n",
       "       [ 6.58521237e-01,  6.82957526e-01, -3.53275748e-03,\n",
       "         2.12731500e-03, -7.02721239e-04],\n",
       "       [ 1.60689106e-01,  3.21378212e-01, -5.53007791e-04,\n",
       "         2.23199988e-03,  8.39496045e-04],\n",
       "       [ 5.73408135e-01,  8.53183731e-01, -1.74105721e-03,\n",
       "         1.38891321e-03, -1.76071995e-04],\n",
       "       [ 3.22521769e-01,  6.45043537e-01, -6.78645849e-04,\n",
       "         1.20664009e-03,  2.63997122e-04],\n",
       "       [ 4.76998430e-01,  9.53996859e-01, -1.65309869e-03,\n",
       "         1.77326836e-03,  6.00848367e-05],\n",
       "       [ 2.37404480e-01,  4.74808960e-01, -2.46945802e-03,\n",
       "         6.26414094e-03,  1.89734146e-03],\n",
       "       [ 3.73085731e-01,  7.46171463e-01, -2.86983383e-03,\n",
       "         4.27608289e-03,  7.03124529e-04],\n",
       "       [ 4.59674744e-01,  9.19349487e-01, -6.84874278e-04,\n",
       "         7.74723557e-04,  4.49246395e-05],\n",
       "       [ 3.93169919e-01,  7.86339839e-01, -1.66417955e-03,\n",
       "         2.32090931e-03,  3.28364882e-04],\n",
       "       [ 6.00966280e-01,  7.98067441e-01, -3.74431525e-03,\n",
       "         2.73628876e-03, -5.04013241e-04],\n",
       "       [ 2.83221641e-01,  5.66443283e-01, -1.11040111e-03,\n",
       "         2.29856131e-03,  5.94080098e-04],\n",
       "       [ 7.87241937e-01,  4.25516126e-01, -2.25248311e-03,\n",
       "         7.82240212e-04, -7.35121449e-04],\n",
       "       [ 2.48353979e-01,  4.96707957e-01, -1.25798855e-03,\n",
       "         3.02974596e-03,  8.85878705e-04],\n",
       "       [ 5.54500900e-01,  8.90998200e-01, -1.73531477e-03,\n",
       "         1.46839702e-03, -1.33458874e-04],\n",
       "       [ 9.11291943e-01,  1.77416115e-01, -3.23135504e-03,\n",
       "         3.19615819e-04, -1.45586961e-03],\n",
       "       [ 4.46352923e-01,  8.92705846e-01, -1.77860087e-03,\n",
       "         2.09635465e-03,  1.58876886e-04],\n",
       "       [ 6.27784919e-01,  7.44430162e-01, -3.07627742e-03,\n",
       "         2.05859988e-03, -5.08838769e-04],\n",
       "       [ 3.65985371e-01,  7.31970742e-01, -1.12834621e-03,\n",
       "         1.72183474e-03,  2.96744264e-04],\n",
       "       [ 1.84413329e-01,  3.68826657e-01, -3.52599479e-04,\n",
       "         1.20191644e-03,  4.24658481e-04]])"
      ]
     },
     "execution_count": 14,
     "metadata": {},
     "output_type": "execute_result"
    }
   ],
   "source": [
    "x.loco_ci"
   ]
  },
  {
   "cell_type": "code",
   "execution_count": 15,
   "id": "f0ace5f7",
   "metadata": {},
   "outputs": [],
   "source": [
    "ci_df = pd.DataFrame(x.loco_ci)\n",
    "ci_df = ci_df.rename(columns={2: 'lower_bound', 3: 'upper_bound', 4: 'score'})\n",
    "ci_df['feature_name'] = feature_names\n",
    "fig_df = ci_df.nlargest(10, \"score\")"
   ]
  },
  {
   "cell_type": "code",
   "execution_count": 16,
   "id": "12bb4b2c",
   "metadata": {},
   "outputs": [
    {
     "data": {
      "image/png": "[encoded data removed]",
      "text/plain": [
       "<Figure size 800x600 with 1 Axes>"
      ]
     },
     "metadata": {},
     "output_type": "display_data"
    }
   ],
   "source": [
    "# Plot\n",
    "plt.figure(figsize=(8, 6))\n",
    "plt.errorbar(\n",
    "    fig_df[\"feature_name\"], fig_df[\"score\"],\n",
    "    yerr=[fig_df[\"score\"] - fig_df[\"lower_bound\"], fig_df[\"upper_bound\"] - fig_df[\"score\"]],\n",
    "    fmt=\"o\", capsize=5, capthick=2, markersize=6, color=\"b\"\n",
    ")\n",
    "plt.axhline(y=0, color='r', linestyle='dotted')\n",
    "plt.ylabel(\"Score\", fontsize=12)\n",
    "plt.xticks(rotation=45, fontsize=10, ha = 'right')\n",
    "plt.show()"
   ]
  }
 ],
 "metadata": {
  "kernelspec": {
   "display_name": "sklearn-env",
   "language": "python",
   "name": "python3"
  },
  "language_info": {
   "codemirror_mode": {
    "name": "ipython",
    "version": 3
   },
   "file_extension": ".py",
   "mimetype": "text/x-python",
   "name": "python",
   "nbconvert_exporter": "python",
   "pygments_lexer": "ipython3",
   "version": "3.12.7"
  }
 },
 "nbformat": 4,
 "nbformat_minor": 5
}
