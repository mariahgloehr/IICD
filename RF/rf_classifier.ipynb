{
 "cells": [
  {
   "cell_type": "code",
   "execution_count": 9,
   "id": "40bf7670",
   "metadata": {},
   "outputs": [],
   "source": [
    "import pandas as pd\n",
    "import matplotlib.pyplot as plt\n",
    "from sklearn.ensemble import RandomForestClassifier\n",
    "from sklearn.model_selection import train_test_split\n",
    "from sklearn.metrics import accuracy_score, confusion_matrix\n",
    "from sklearn.model_selection import GridSearchCV"
   ]
  },
  {
   "cell_type": "code",
   "execution_count": 3,
   "id": "fcd19d3c",
   "metadata": {},
   "outputs": [],
   "source": [
    "# Load data\n",
    "df = pd.read_csv(\"/Users/mariahloehr/IICD/IICD/Data/cell_cycle_tidied.csv\")\n",
    "\n",
    "# Combine phase M and G2 into one class\n",
    "df['phase'] = df['phase'].replace({'M': 'G2'})\n",
    "\n",
    "# Separate features and target\n",
    "X = df.drop(columns=['phase', 'age', 'PHATE_1', 'PHATE_2'])\n",
    "y = df['phase']\n",
    "\n",
    "# Split data into train and test sets (80:20)\n",
    "X_train, X_test, y_train, y_test = train_test_split(X, y, test_size=0.2, random_state=949, stratify=y)"
   ]
  },
  {
   "cell_type": "code",
   "execution_count": null,
   "id": "c45b1157",
   "metadata": {},
   "outputs": [
    {
     "name": "stdout",
     "output_type": "stream",
     "text": [
      "Best parameters: {'max_depth': 50, 'max_features': 200, 'n_estimators': 500}\n",
      "Best cross-validation accuracy: 0.9782485875706215\n"
     ]
    }
   ],
   "source": [
    "## hypertuning\n",
    "\n",
    "rf = RandomForestClassifier(n_estimators=500, max_depth=50, max_features='sqrt', random_state=949)\n",
    "\n",
    "param_grid = {\n",
    "    'n_estimators': [500],              \n",
    "    'max_depth': [50],\n",
    "    'max_features': [200, 250]          \n",
    "}\n",
    "\n",
    "# Set up GridSearch with 10-fold cross-validation optimizing for accuracy\n",
    "grid_search = GridSearchCV(\n",
    "    estimator=rf,\n",
    "    param_grid=param_grid,\n",
    "    cv=10,\n",
    "    scoring='accuracy',\n",
    "    n_jobs=-1\n",
    ")\n",
    "\n",
    "# Fit the model to your data\n",
    "grid_search.fit(X_train, y_train)\n",
    "\n",
    "#Output best settings and best accuracy\n",
    "print(\"Best parameters:\", grid_search.best_params_)\n",
    "print(\"Best cross-validation accuracy:\", grid_search.best_score_)"
   ]
  },
  {
   "cell_type": "code",
   "execution_count": 15,
   "id": "48b31f55",
   "metadata": {},
   "outputs": [
    {
     "name": "stdout",
     "output_type": "stream",
     "text": [
      "=== OOB Scores by max_features ===\n",
      "max_features=250: OOB Accuracy = 0.9774\n",
      "max_features=None: OOB Accuracy = 0.9777\n",
      "\n",
      "Best max_features based on OOB: None\n"
     ]
    }
   ],
   "source": [
    "# OOB error \n",
    "# Define the values of max_features to test\n",
    "max_features_options = [250, None]  # Try 3–5 reasonable values\n",
    "\n",
    "oob_results = {}\n",
    "\n",
    "# Loop over different max_features\n",
    "for mf in max_features_options:\n",
    "    rf = RandomForestClassifier(\n",
    "        n_estimators=500,\n",
    "        max_depth=50,\n",
    "        max_features=mf,\n",
    "        oob_score=True,\n",
    "        bootstrap=True,\n",
    "        random_state=949,\n",
    "        n_jobs=-1\n",
    "    )\n",
    "    rf.fit(X_train, y_train)\n",
    "    oob_results[mf] = rf.oob_score_\n",
    "\n",
    "# Show OOB results\n",
    "print(\"=== OOB Scores by max_features ===\")\n",
    "for mf, score in oob_results.items():\n",
    "    print(f\"max_features={mf}: OOB Accuracy = {score:.4f}\")\n",
    "\n",
    "# Choose best setting\n",
    "best_mf = max(oob_results, key=oob_results.get)\n",
    "print(f\"\\nBest max_features based on OOB: {best_mf}\")"
   ]
  },
  {
   "cell_type": "code",
   "execution_count": 16,
   "id": "9cce782f",
   "metadata": {},
   "outputs": [
    {
     "data": {
      "image/png": "[encoded data removed]",
      "text/plain": [
       "<Figure size 640x480 with 1 Axes>"
      ]
     },
     "metadata": {},
     "output_type": "display_data"
    }
   ],
   "source": [
    "max_features_range = [17, 50, 100, 150, 200, 250, 300]  # example for 300 features\n",
    "oob_scores = []\n",
    "\n",
    "for mf in max_features_range:\n",
    "    rf = RandomForestClassifier(\n",
    "        n_estimators=600,\n",
    "        max_depth=50,\n",
    "        max_features=mf,\n",
    "        oob_score=True,\n",
    "        random_state=42,\n",
    "        bootstrap=True\n",
    "    )\n",
    "    rf.fit(X_train, y_train)\n",
    "    \n",
    "    oob_scores.append(rf.oob_score_)\n",
    "\n",
    "plt.plot(max_features_range, oob_scores, label=\"OOB Accuracy\")\n",
    "plt.xlabel(\"max_features\")\n",
    "plt.ylabel(\"OOB Score\")\n",
    "plt.title(\"OOB vs max_features\")\n",
    "plt.legend()\n",
    "plt.show()"
   ]
  },
  {
   "cell_type": "code",
   "execution_count": 17,
   "id": "7095dce8",
   "metadata": {},
   "outputs": [],
   "source": [
    "# retrain model\n",
    "rf = RandomForestClassifier(n_estimators=500, max_depth=50, max_features=250, random_state=949)\n",
    "rf.fit(X_train, y_train)\n",
    "\n",
    "# Predict on training and test sets\n",
    "y_train_pred = rf.predict(X_train)\n",
    "y_test_pred = rf.predict(X_test)"
   ]
  },
  {
   "cell_type": "code",
   "execution_count": 18,
   "id": "a08ef04c",
   "metadata": {},
   "outputs": [
    {
     "name": "stdout",
     "output_type": "stream",
     "text": [
      "=== Training Set ===\n",
      "Overall Accuracy: 1.0\n",
      "\n",
      "=== Test Set ===\n",
      "Overall Accuracy: 0.9745762711864406\n",
      "Accuracy per phase (Train):\n",
      "true\n",
      "G0    1.0\n",
      "G1    1.0\n",
      "G2    1.0\n",
      "S     1.0\n",
      "dtype: float64\n",
      "\n",
      "Accuracy per phase (Test):\n",
      "true\n",
      "G0    1.000000\n",
      "G1    0.977918\n",
      "G2    0.962185\n",
      "S     0.958095\n",
      "dtype: float64\n",
      "Test Confusion Matrix\n",
      "[[373   0   0   0]\n",
      " [  0 620   0  14]\n",
      " [  0   0 229   9]\n",
      " [  0  10  12 503]]\n"
     ]
    },
    {
     "name": "stderr",
     "output_type": "stream",
     "text": [
      "/var/folders/1s/bvxr71hj0hqgyk_jk6k7wkm80000gn/T/ipykernel_78752/1611266468.py:10: FutureWarning: DataFrameGroupBy.apply operated on the grouping columns. This behavior is deprecated, and in a future version of pandas the grouping columns will be excluded from the operation. Either pass `include_groups=False` to exclude the groupings or explicitly select the grouping columns after groupby to silence this warning.\n",
      "  accuracy_per_phase_train = df_train.groupby('true').apply(lambda x: accuracy_score(x['true'], x['pred']))\n",
      "/var/folders/1s/bvxr71hj0hqgyk_jk6k7wkm80000gn/T/ipykernel_78752/1611266468.py:17: FutureWarning: DataFrameGroupBy.apply operated on the grouping columns. This behavior is deprecated, and in a future version of pandas the grouping columns will be excluded from the operation. Either pass `include_groups=False` to exclude the groupings or explicitly select the grouping columns after groupby to silence this warning.\n",
      "  accuracy_per_phase_test = df_test.groupby('true').apply(lambda x: accuracy_score(x['true'], x['pred']))\n"
     ]
    }
   ],
   "source": [
    "# Output results\n",
    "print(\"=== Training Set ===\")\n",
    "print(\"Overall Accuracy:\", accuracy_score(y_train, y_train_pred))\n",
    "\n",
    "print(\"\\n=== Test Set ===\")\n",
    "print(\"Overall Accuracy:\", accuracy_score(y_test, y_test_pred))\n",
    "\n",
    "# For training set\n",
    "df_train = pd.DataFrame({'true': y_train, 'pred': y_train_pred})\n",
    "accuracy_per_phase_train = df_train.groupby('true').apply(lambda x: accuracy_score(x['true'], x['pred']))\n",
    "\n",
    "print(\"Accuracy per phase (Train):\")\n",
    "print(accuracy_per_phase_train)\n",
    "\n",
    "# For test set\n",
    "df_test = pd.DataFrame({'true': y_test, 'pred': y_test_pred})\n",
    "accuracy_per_phase_test = df_test.groupby('true').apply(lambda x: accuracy_score(x['true'], x['pred']))\n",
    "\n",
    "print(\"\\nAccuracy per phase (Test):\")\n",
    "print(accuracy_per_phase_test)\n",
    "\n",
    "print(\"Test Confusion Matrix\")\n",
    "print(confusion_matrix(y_test, y_test_pred, labels = [\"G0\", \"G1\", \"G2\", \"S\"]))"
   ]
  }
 ],
 "metadata": {
  "kernelspec": {
   "display_name": "sklearn-env",
   "language": "python",
   "name": "python3"
  },
  "language_info": {
   "codemirror_mode": {
    "name": "ipython",
    "version": 3
   },
   "file_extension": ".py",
   "mimetype": "text/x-python",
   "name": "python",
   "nbconvert_exporter": "python",
   "pygments_lexer": "ipython3",
   "version": "3.12.7"
  }
 },
 "nbformat": 4,
 "nbformat_minor": 5
}
