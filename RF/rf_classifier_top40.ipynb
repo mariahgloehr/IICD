{
 "cells": [
  {
   "cell_type": "code",
   "execution_count": null,
   "id": "f85fde16",
   "metadata": {},
   "outputs": [],
   "source": [
    "import pandas as pd\n",
    "from sklearn.ensemble import RandomForestClassifier\n",
    "from sklearn.model_selection import train_test_split\n",
    "from sklearn.metrics import accuracy_score, classification_report, cohen_kappa_score, confusion_matrix, ConfusionMatrixDisplay\n",
    "from sklearn.model_selection import GridSearchCV"
   ]
  },
  {
   "cell_type": "code",
   "execution_count": null,
   "id": "91637cb5",
   "metadata": {},
   "outputs": [],
   "source": [
    "# Load data\n",
    "df = pd.read_csv(\"/Users/mariahloehr/IICD/IICD/Data/top40_cell_cycle.csv\")\n",
    "\n",
    "# Combine phase M and G2 into one class\n",
    "df['phase'] = df['phase'].replace({'M': 'G2'})\n",
    "\n",
    "# Separate features and target\n",
    "X = df.drop(columns=['phase', 'age'])\n",
    "y = df['phase']"
   ]
  },
  {
   "cell_type": "code",
   "execution_count": null,
   "id": "2a3cb993",
   "metadata": {},
   "outputs": [],
   "source": [
    "# Split data into train and test sets (80:20)\n",
    "X_train, X_test, y_train, y_test = train_test_split(X, y, test_size=0.2, random_state=949, stratify=y)\n",
    "\n",
    "# Train Random Forest model with 500 trees and large depth\n",
    "rf = RandomForestClassifier(n_estimators=500, max_depth=50, max_features='sqrt', random_state=949)\n",
    "rf.fit(X_train, y_train)\n",
    "\n",
    "# Predict on training and test sets\n",
    "y_train_pred = rf.predict(X_train)\n",
    "y_test_pred = rf.predict(X_test)"
   ]
  },
  {
   "cell_type": "code",
   "execution_count": null,
   "id": "1ec67edb",
   "metadata": {},
   "outputs": [],
   "source": [
    "# Output results\n",
    "print(\"=== Training Set ===\")\n",
    "print(\"Overall Accuracy:\", accuracy_score(y_train, y_train_pred))\n",
    "\n",
    "print(\"\\n=== Test Set ===\")\n",
    "print(\"Overall Accuracy:\", accuracy_score(y_test, y_test_pred))\n",
    "\n",
    "# For training set\n",
    "df_train = pd.DataFrame({'true': y_train, 'pred': y_train_pred})\n",
    "accuracy_per_phase_train = df_train.groupby('true').apply(lambda x: accuracy_score(x['true'], x['pred']))\n",
    "\n",
    "print(\"Accuracy per phase (Train):\")\n",
    "print(accuracy_per_phase_train)\n",
    "\n",
    "# For test set\n",
    "df_test = pd.DataFrame({'true': y_test, 'pred': y_test_pred})\n",
    "accuracy_per_phase_test = df_test.groupby('true').apply(lambda x: accuracy_score(x['true'], x['pred']))\n",
    "\n",
    "print(\"\\nAccuracy per phase (Test):\")\n",
    "print(accuracy_per_phase_test)\n",
    "\n",
    "#kappa_train = cohen_kappa_score(y_train, y_train_pred)\n",
    "#kappa_test = cohen_kappa_score(y_test, y_test_pred)\n",
    "\n",
    "#print(f\"Cohen's Kappa (Train): {kappa_train:.3f}\")\n",
    "#print(f\"Cohen's Kappa (Test): {kappa_test:.3f}\")\n",
    "\n",
    "## CONFUSION MATRIX\n",
    "\n",
    "print(\"Test Confusion Matrix\")\n",
    "print(confusion_matrix(y_test, y_test_pred, labels = [\"G0\", \"G1\", \"G2\", \"S\"]))"
   ]
  },
  {
   "cell_type": "code",
   "execution_count": null,
   "id": "9dae8333",
   "metadata": {},
   "outputs": [],
   "source": [
    "## hypertuning\n",
    "\n",
    "param_grid = {\n",
    "    'n_estimators': [900, 1000, 1500]              \n",
    "    #'max_depth': [50, 60, 70]          \n",
    "}\n",
    "\n",
    "# Set up GridSearch with 10-fold cross-validation optimizing for accuracy\n",
    "grid_search = GridSearchCV(\n",
    "    estimator=rf,\n",
    "    param_grid=param_grid,\n",
    "    cv=10,\n",
    "    scoring='accuracy',\n",
    "    n_jobs=-1\n",
    ")\n",
    "\n",
    "# Fit the model to your data\n",
    "grid_search.fit(X, y)\n",
    "\n",
    "#Output best settings and best accuracy\n",
    "print(\"Best parameters:\", grid_search.best_params_)\n",
    "print(\"Best cross-validation accuracy:\", grid_search.best_score_)"
   ]
  }
 ],
 "metadata": {
  "language_info": {
   "name": "python"
  }
 },
 "nbformat": 4,
 "nbformat_minor": 5
}
