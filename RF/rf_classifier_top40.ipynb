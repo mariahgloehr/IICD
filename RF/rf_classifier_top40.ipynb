{
 "cells": [
  {
   "cell_type": "code",
   "execution_count": 1,
   "id": "f85fde16",
   "metadata": {},
   "outputs": [],
   "source": [
    "import pandas as pd\n",
    "from sklearn.ensemble import RandomForestClassifier\n",
    "from sklearn.model_selection import train_test_split\n",
    "from sklearn.metrics import accuracy_score, classification_report, cohen_kappa_score, confusion_matrix, ConfusionMatrixDisplay\n",
    "from sklearn.model_selection import GridSearchCV"
   ]
  },
  {
   "cell_type": "code",
   "execution_count": 2,
   "id": "91637cb5",
   "metadata": {},
   "outputs": [],
   "source": [
    "# Load data\n",
    "df = pd.read_csv(\"/Users/mariahloehr/IICD/IICD/Data/top40_cell_cycle.csv\")\n",
    "\n",
    "# Combine phase M and G2 into one class\n",
    "df['phase'] = df['phase'].replace({'M': 'G2'})\n",
    "\n",
    "# Separate features and target\n",
    "X = df.drop(columns=['phase', 'age'])\n",
    "y = df['phase']"
   ]
  },
  {
   "cell_type": "code",
   "execution_count": 6,
   "id": "2a3cb993",
   "metadata": {},
   "outputs": [],
   "source": [
    "# Split data into train and test sets (80:20)\n",
    "X_train, X_test, y_train, y_test = train_test_split(X, y, test_size=0.2, random_state=949, stratify=y)\n",
    "\n",
    "# Train Random Forest model with 500 trees and large depth\n",
    "rf = RandomForestClassifier(n_estimators=1500, max_depth=50, max_features='sqrt', random_state=949)\n",
    "rf.fit(X_train, y_train)\n",
    "\n",
    "# Predict on training and test sets\n",
    "y_train_pred = rf.predict(X_train)\n",
    "y_test_pred = rf.predict(X_test)"
   ]
  },
  {
   "cell_type": "code",
   "execution_count": 7,
   "id": "1ec67edb",
   "metadata": {},
   "outputs": [
    {
     "name": "stdout",
     "output_type": "stream",
     "text": [
      "=== Training Set ===\n",
      "Overall Accuracy: 1.0\n",
      "\n",
      "=== Test Set ===\n",
      "Overall Accuracy: 0.9316384180790961\n",
      "Accuracy per phase (Train):\n",
      "true\n",
      "G0    1.0\n",
      "G1    1.0\n",
      "G2    1.0\n",
      "S     1.0\n",
      "dtype: float64\n",
      "\n",
      "Accuracy per phase (Test):\n",
      "true\n",
      "G0    0.831099\n",
      "G1    0.946372\n",
      "G2    0.949580\n",
      "S     0.977143\n",
      "dtype: float64\n",
      "Test Confusion Matrix\n",
      "[[310  58   3   2]\n",
      " [ 15 600   2  17]\n",
      " [  0   0 226  12]\n",
      " [  0   4   8 513]]\n"
     ]
    },
    {
     "name": "stderr",
     "output_type": "stream",
     "text": [
      "/var/folders/1s/bvxr71hj0hqgyk_jk6k7wkm80000gn/T/ipykernel_63934/2198706350.py:10: FutureWarning: DataFrameGroupBy.apply operated on the grouping columns. This behavior is deprecated, and in a future version of pandas the grouping columns will be excluded from the operation. Either pass `include_groups=False` to exclude the groupings or explicitly select the grouping columns after groupby to silence this warning.\n",
      "  accuracy_per_phase_train = df_train.groupby('true').apply(lambda x: accuracy_score(x['true'], x['pred']))\n",
      "/var/folders/1s/bvxr71hj0hqgyk_jk6k7wkm80000gn/T/ipykernel_63934/2198706350.py:17: FutureWarning: DataFrameGroupBy.apply operated on the grouping columns. This behavior is deprecated, and in a future version of pandas the grouping columns will be excluded from the operation. Either pass `include_groups=False` to exclude the groupings or explicitly select the grouping columns after groupby to silence this warning.\n",
      "  accuracy_per_phase_test = df_test.groupby('true').apply(lambda x: accuracy_score(x['true'], x['pred']))\n"
     ]
    }
   ],
   "source": [
    "# Output results\n",
    "print(\"=== Training Set ===\")\n",
    "print(\"Overall Accuracy:\", accuracy_score(y_train, y_train_pred))\n",
    "\n",
    "print(\"\\n=== Test Set ===\")\n",
    "print(\"Overall Accuracy:\", accuracy_score(y_test, y_test_pred))\n",
    "\n",
    "# For training set\n",
    "df_train = pd.DataFrame({'true': y_train, 'pred': y_train_pred})\n",
    "accuracy_per_phase_train = df_train.groupby('true').apply(lambda x: accuracy_score(x['true'], x['pred']))\n",
    "\n",
    "print(\"Accuracy per phase (Train):\")\n",
    "print(accuracy_per_phase_train)\n",
    "\n",
    "# For test set\n",
    "df_test = pd.DataFrame({'true': y_test, 'pred': y_test_pred})\n",
    "accuracy_per_phase_test = df_test.groupby('true').apply(lambda x: accuracy_score(x['true'], x['pred']))\n",
    "\n",
    "print(\"\\nAccuracy per phase (Test):\")\n",
    "print(accuracy_per_phase_test)\n",
    "\n",
    "#kappa_train = cohen_kappa_score(y_train, y_train_pred)\n",
    "#kappa_test = cohen_kappa_score(y_test, y_test_pred)\n",
    "\n",
    "#print(f\"Cohen's Kappa (Train): {kappa_train:.3f}\")\n",
    "#print(f\"Cohen's Kappa (Test): {kappa_test:.3f}\")\n",
    "\n",
    "## CONFUSION MATRIX\n",
    "\n",
    "print(\"Test Confusion Matrix\")\n",
    "print(confusion_matrix(y_test, y_test_pred, labels = [\"G0\", \"G1\", \"G2\", \"S\"]))"
   ]
  },
  {
   "cell_type": "code",
   "execution_count": null,
   "id": "9dae8333",
   "metadata": {},
   "outputs": [
    {
     "name": "stdout",
     "output_type": "stream",
     "text": [
      "Best parameters: {'max_depth': 50, 'n_estimators': 1500}\n",
      "Best cross-validation accuracy: 0.9312994350282485\n"
     ]
    }
   ],
   "source": [
    "## hypertuning\n",
    "\n",
    "param_grid = {\n",
    "    'n_estimators': [1500, 1700, 2000],              \n",
    "    'max_depth': [50, 60]          \n",
    "}\n",
    "\n",
    "# Set up GridSearch with 10-fold cross-validation optimizing for accuracy\n",
    "grid_search = GridSearchCV(\n",
    "    estimator=rf,\n",
    "    param_grid=param_grid,\n",
    "    cv=10,\n",
    "    scoring='accuracy',\n",
    "    n_jobs=-1\n",
    ")\n",
    "\n",
    "# Fit the model to your data\n",
    "grid_search.fit(X_train, y_train)\n",
    "\n",
    "#Output best settings and best accuracy\n",
    "print(\"Best parameters:\", grid_search.best_params_)\n",
    "print(\"Best cross-validation accuracy:\", grid_search.best_score_)"
   ]
  }
 ],
 "metadata": {
  "kernelspec": {
   "display_name": "sklearn-env",
   "language": "python",
   "name": "python3"
  },
  "language_info": {
   "codemirror_mode": {
    "name": "ipython",
    "version": 3
   },
   "file_extension": ".py",
   "mimetype": "text/x-python",
   "name": "python",
   "nbconvert_exporter": "python",
   "pygments_lexer": "ipython3",
   "version": "3.12.7"
  }
 },
 "nbformat": 4,
 "nbformat_minor": 5
}
