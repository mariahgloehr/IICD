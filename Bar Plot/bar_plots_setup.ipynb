{
 "cells": [
  {
   "cell_type": "code",
   "execution_count": 2,
   "id": "deb1801c",
   "metadata": {},
   "outputs": [],
   "source": [
    "import pandas as pd"
   ]
  },
  {
   "cell_type": "code",
   "execution_count": null,
   "id": "b9753d87",
   "metadata": {},
   "outputs": [],
   "source": [
    "#classification dataframe\n",
    "models = ['RF (full)', 'RF (top 40)', 'MLR (full)', 'MLR (top 40)', \n",
    "          'XGBoost (full)', 'XGBoost (top 40)', 'SVM (full)', 'SVM (top 40)', 'MLP (full)', 'MLP (top 40)']\n",
    "phases = ['Overall', 'G0', 'G1', 'G2', 'S']\n",
    "\n",
    "# Create a DataFrame with models as rows and accuracy metrics as columns\n",
    "results_df = pd.DataFrame(index=models, columns=phases)\n",
    "\n",
    "# Save to file\n",
    "results_df.to_csv(\"classification_results.csv\")"
   ]
  },
  {
   "cell_type": "code",
   "execution_count": 6,
   "id": "466b7cab",
   "metadata": {},
   "outputs": [],
   "source": [
    "#regression dataframe\n",
    "models = ['RF (full)', 'RF (top 40)', 'Lasso (full)', 'Lasso (top 40)', 'Ridge (full)', 'Ridge (top 40)',\n",
    "          'XGBoost (full)', 'XGBoost (top 40)', 'MLP (full)', 'MLP (top 40)']\n",
    "phases = ['Overall', 'G0', 'G1', 'G2', 'M', 'S']\n",
    "\n",
    "# Create a DataFrame with models as rows and RMSE as columns\n",
    "results_df = pd.DataFrame(index=models, columns=phases)\n",
    "\n",
    "# Save to file\n",
    "results_df.to_csv(\"regression_results.csv\")"
   ]
  }
 ],
 "metadata": {
  "kernelspec": {
   "display_name": "sklearn-env",
   "language": "python",
   "name": "python3"
  },
  "language_info": {
   "codemirror_mode": {
    "name": "ipython",
    "version": 3
   },
   "file_extension": ".py",
   "mimetype": "text/x-python",
   "name": "python",
   "nbconvert_exporter": "python",
   "pygments_lexer": "ipython3",
   "version": "3.12.7"
  }
 },
 "nbformat": 4,
 "nbformat_minor": 5
}
