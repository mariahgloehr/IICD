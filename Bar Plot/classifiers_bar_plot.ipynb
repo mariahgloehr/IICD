{
 "cells": [
  {
   "cell_type": "code",
   "execution_count": null,
   "id": "17380bc8",
   "metadata": {},
   "outputs": [],
   "source": [
    "import pandas as pd\n",
    "import numpy as np\n",
    "import seaborn as sns\n",
    "import matplotlib.pyplot as plt\n",
    "from sklearn.ensemble import RandomForestClassifier\n",
    "from sklearn.model_selection import train_test_split\n",
    "from sklearn.metrics import accuracy_score"
   ]
  },
  {
   "cell_type": "code",
   "execution_count": 3,
   "id": "128e0508",
   "metadata": {},
   "outputs": [],
   "source": [
    "import pandas as pd\n",
    "\n",
    "models = ['RF (full)', 'RF (top 40)', 'MLR (full)', 'MLR (top 40)', \n",
    "          'XGBoost (full)', 'XGBoost (top 40)', 'SVM (full)', 'SVM (top 40)', 'MLP (full)', 'MLP (top 40)']\n",
    "phases = ['Overall', 'G0', 'G1', 'G2', 'S']\n",
    "\n",
    "# Create a DataFrame with models as rows and accuracy metrics as columns\n",
    "results_df = pd.DataFrame(index=models, columns=phases)\n",
    "\n",
    "# Save to file\n",
    "results_df.to_csv(\"classification_results.csv\")"
   ]
  },
  {
   "cell_type": "code",
   "execution_count": null,
   "id": "4bf65de0",
   "metadata": {},
   "outputs": [],
   "source": [
    "# Load data\n",
    "df = pd.read_csv(\"/Users/mariahloehr/IICD/IICD/Data/cell_cycle_tidied.csv\")\n",
    "\n",
    "# Combine phase M and G2 into one class\n",
    "df['phase'] = df['phase'].replace({'M': 'G2'})\n",
    "\n",
    "# Separate features and target\n",
    "X = df.drop(columns=['phase', 'age', 'PHATE_1', 'PHATE_2'])\n",
    "y = df['phase']\n",
    "\n",
    "# Split data into train and test sets (80:20)\n",
    "X_train, X_test, y_train, y_test = train_test_split(X, y, test_size=0.2, random_state=949, stratify=y)"
   ]
  },
  {
   "cell_type": "code",
   "execution_count": null,
   "id": "1fd9c82b",
   "metadata": {},
   "outputs": [],
   "source": []
  },
  {
   "cell_type": "code",
   "execution_count": null,
   "id": "a4039117",
   "metadata": {},
   "outputs": [],
   "source": [
    "# Convert to DataFrame\n",
    "df = pd.DataFrame(data)\n",
    "\n",
    "# Melt the DataFrame for plotting\n",
    "df_melted = df.melt(id_vars='Model', var_name='Phase', value_name='Accuracy')\n",
    "\n",
    "# Create grouped bar plot\n",
    "plt.figure(figsize=(12, 6))\n",
    "sns.barplot(data=df_melted, x='Model', y='Accuracy', hue='Phase')\n",
    "plt.title('Comparison of Classification Accuracies by Model and Phase')\n",
    "plt.ylim(0, 1.0)\n",
    "plt.ylabel('Accuracy')\n",
    "plt.xticks(rotation=20)\n",
    "plt.legend(title='Phase')\n",
    "plt.tight_layout()\n",
    "plt.show()"
   ]
  }
 ],
 "metadata": {
  "kernelspec": {
   "display_name": "sklearn-env",
   "language": "python",
   "name": "python3"
  },
  "language_info": {
   "codemirror_mode": {
    "name": "ipython",
    "version": 3
   },
   "file_extension": ".py",
   "mimetype": "text/x-python",
   "name": "python",
   "nbconvert_exporter": "python",
   "pygments_lexer": "ipython3",
   "version": "3.12.7"
  }
 },
 "nbformat": 4,
 "nbformat_minor": 5
}
