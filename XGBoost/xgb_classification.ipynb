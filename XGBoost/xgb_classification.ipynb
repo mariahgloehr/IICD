{
 "cells": [
  {
   "cell_type": "code",
   "execution_count": 1,
   "id": "bfb65b84",
   "metadata": {},
   "outputs": [],
   "source": [
    "import pandas as pd\n",
    "import numpy as np\n",
    "from sklearn.model_selection import train_test_split\n",
    "from sklearn.metrics import accuracy_score, classification_report, cohen_kappa_score, confusion_matrix, ConfusionMatrixDisplay\n",
    "from sklearn.model_selection import GridSearchCV\n",
    "from xgboost import XGBClassifier"
   ]
  },
  {
   "cell_type": "code",
   "execution_count": null,
   "id": "444cdeb8",
   "metadata": {},
   "outputs": [],
   "source": [
    "# Load data\n",
    "df = pd.read_csv(\"/Users/mariahloehr/IICD/IICD/Data/cell_cycle_tidied.csv\")\n",
    "\n",
    "# Combine phase M and G2 into one class\n",
    "df['phase'] = df['phase'].replace({'M': 'G2'})\n",
    "\n",
    "# Separate features and target\n",
    "X = df.drop(columns=['phase', 'age', 'PHATE_1', 'PHATE_2'])\n",
    "y = df['phase']\n",
    "\n",
    "# Train-test split\n",
    "X_train, X_test, y_train, y_test = train_test_split(X, y, test_size=0.2, random_state=949, stratified = y)"
   ]
  },
  {
   "cell_type": "code",
   "execution_count": null,
   "id": "63b82451",
   "metadata": {},
   "outputs": [],
   "source": [
    "# Initialize XGBoost Regressor\n",
    "xgb_model = XGBClassifier(\n",
    "    n_estimators=500,\n",
    "    eta = 0.3,\n",
    "    max_depth=50,\n",
    "    tree_method = \"hist\",\n",
    "    random_state=949\n",
    ")\n",
    "\n",
    "# Fit model\n",
    "xgb_model.fit(X_train, y_train)\n",
    "\n",
    "# Predict\n",
    "y_train_pred = xgb_model.predict(X_train)\n",
    "y_test_pred = xgb_model.predict(X_test)"
   ]
  }
 ],
 "metadata": {
  "kernelspec": {
   "display_name": "sklearn-env",
   "language": "python",
   "name": "python3"
  },
  "language_info": {
   "codemirror_mode": {
    "name": "ipython",
    "version": 3
   },
   "file_extension": ".py",
   "mimetype": "text/x-python",
   "name": "python",
   "nbconvert_exporter": "python",
   "pygments_lexer": "ipython3",
   "version": "3.12.7"
  }
 },
 "nbformat": 4,
 "nbformat_minor": 5
}
