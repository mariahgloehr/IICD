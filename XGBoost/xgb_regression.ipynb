{
 "cells": [
  {
   "cell_type": "code",
   "execution_count": null,
   "id": "36013ee8",
   "metadata": {},
   "outputs": [],
   "source": [
    "import pandas as pd\n",
    "import numpy as np\n",
    "from sklearn.model_selection import train_test_split\n",
    "from sklearn.metrics import r2_score, root_mean_squared_error\n",
    "from xgboost import XGBRegressor"
   ]
  },
  {
   "cell_type": "code",
   "execution_count": null,
   "id": "a974c5e8",
   "metadata": {},
   "outputs": [],
   "source": [
    "# Load data\n",
    "df = pd.read_csv(\"/Users/mariahloehr/IICD/IICD/Data/cell_cycle_tidied.csv\")\n",
    "\n",
    "# Define features and target\n",
    "X = df.drop(columns=['phase', 'age', 'PHATE_1', 'PHATE_2'])  # Features\n",
    "y = df['age']  # Target: age\n",
    "\n",
    "# Train-test split\n",
    "X_train, X_test, y_train, y_test = train_test_split(\n",
    "    X, y, test_size=0.2, random_state=949\n",
    ")"
   ]
  },
  {
   "cell_type": "code",
   "execution_count": null,
   "id": "29c0ebb4",
   "metadata": {},
   "outputs": [],
   "source": [
    "# Initialize XGBoost Regressor\n",
    "xgb_model = XGBRegressor(\n",
    "    n_estimators=500,\n",
    "    eta = 0.3,\n",
    "    gamma = 0,\n",
    "    max_depth=50,\n",
    "    min_child_weight = 1,\n",
    "    subsample=0.5,\n",
    "    colsample_bytree=1,\n",
    "    tree_method = \"hist\",\n",
    "    random_state=949,\n",
    "    objective='reg:squarederror'\n",
    ")\n",
    "\n",
    "# Fit model\n",
    "xgb_model.fit(X_train, y_train)\n",
    "\n",
    "# Predict\n",
    "y_train_pred = xgb_model.predict(X_train)\n",
    "y_test_pred = xgb_model.predict(X_test)"
   ]
  },
  {
   "cell_type": "code",
   "execution_count": null,
   "id": "f4e798b1",
   "metadata": {},
   "outputs": [],
   "source": [
    "# Calculate RMSE\n",
    "rmse_train = root_mean_squared_error(y_train, y_train_pred)\n",
    "rmse_test = root_mean_squared_error(y_test, y_test_pred)\n",
    "\n",
    "\n",
    "# Calculate R^2\n",
    "r2_train = r2_score(y_train, y_train_pred)\n",
    "r2_test = r2_score(y_test, y_test_pred)\n",
    "\n",
    "print(\"=== Training Set ===\")\n",
    "print(f\"RMSE: {rmse_train:.4f}\")\n",
    "print(f\"R^2: {r2_train:.4f}\")\n",
    "\n",
    "print(\"\\n=== Test Set ===\")\n",
    "print(f\"RMSE: {rmse_test:.4f}\")\n",
    "print(f\"R^2: {r2_test:.4f}\")\n",
    "\n",
    "# For training set\n",
    "df_train = pd.DataFrame({\n",
    "    'true_age': y_train,\n",
    "    'pred_age': y_train_pred,\n",
    "    'phase': df.loc[y_train.index, 'phase']  # get phase for train samples\n",
    "})\n",
    "\n",
    "rmse_per_phase_train = df_train.groupby('phase').apply(\n",
    "    lambda x: root_mean_squared_error(x['true_age'], x['pred_age'])\n",
    ")\n",
    "\n",
    "print(\"RMSE per phase (Train):\")\n",
    "print(rmse_per_phase_train)\n",
    "\n",
    "# For test set\n",
    "df_test = pd.DataFrame({\n",
    "    'true_age': y_test,\n",
    "    'pred_age': y_test_pred,\n",
    "    'phase': df.loc[y_test.index, 'phase']  # get phase for test samples\n",
    "})\n",
    "\n",
    "rmse_per_phase_test = df_test.groupby('phase').apply(\n",
    "    lambda x: root_mean_squared_error(x['true_age'], x['pred_age'])\n",
    ")\n",
    "\n",
    "print(\"\\nRMSE per phase (Test):\")\n",
    "print(rmse_per_phase_test)"
   ]
  }
 ],
 "metadata": {
  "language_info": {
   "name": "python"
  }
 },
 "nbformat": 4,
 "nbformat_minor": 5
}
