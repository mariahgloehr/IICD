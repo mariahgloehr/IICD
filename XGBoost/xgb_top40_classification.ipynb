{
 "cells": [
  {
   "cell_type": "code",
   "execution_count": 1,
   "id": "cc6abf14",
   "metadata": {},
   "outputs": [],
   "source": [
    "import pandas as pd\n",
    "import numpy as np\n",
    "from sklearn.model_selection import train_test_split\n",
    "from sklearn.metrics import accuracy_score, classification_report, confusion_matrix, ConfusionMatrixDisplay\n",
    "from sklearn.model_selection import GridSearchCV\n",
    "from xgboost import XGBClassifier\n",
    "from sklearn.preprocessing import LabelEncoder"
   ]
  },
  {
   "cell_type": "code",
   "execution_count": 2,
   "id": "a8cdb8ef",
   "metadata": {},
   "outputs": [],
   "source": [
    "# Load data\n",
    "df = pd.read_csv(\"/Users/mariahloehr/IICD/IICD/Data/top40_cell_cycle.csv\")\n",
    "\n",
    "# Combine phase M and G2 into one class\n",
    "df['phase'] = df['phase'].replace({'M': 'G2'})\n",
    "\n",
    "le = LabelEncoder()\n",
    "df['phase'] = le.fit_transform(df['phase']) \n",
    "\n",
    "# Separate features and target\n",
    "X = df.drop(columns=['phase', 'age'])\n",
    "y = df['phase']\n",
    "\n",
    "# Train-test split\n",
    "X_train, X_test, y_train, y_test = train_test_split(X, y, test_size=0.2, random_state=949, stratify=y)"
   ]
  },
  {
   "cell_type": "code",
   "execution_count": 3,
   "id": "4a7d8c53",
   "metadata": {},
   "outputs": [],
   "source": [
    "# Initialize XGBoost Regressor\n",
    "xgb_model = XGBClassifier(\n",
    "    n_estimators=500,\n",
    "    eta = 0.1,\n",
    "    max_depth=3,\n",
    "    tree_method = \"hist\",\n",
    "    random_state=949\n",
    ")"
   ]
  },
  {
   "cell_type": "code",
   "execution_count": 6,
   "id": "c3483d1d",
   "metadata": {},
   "outputs": [
    {
     "name": "stdout",
     "output_type": "stream",
     "text": [
      "Best parameters: {'eta': 0.05, 'max_depth': 20, 'n_estimators': 500}\n"
     ]
    }
   ],
   "source": [
    "## hypertuning\n",
    "\n",
    "param_grid = {\n",
    "    'n_estimators': [500],              \n",
    "    'max_depth': [20, 30, 40],\n",
    "    'eta': [0.05]          \n",
    "}\n",
    "\n",
    "# Set up GridSearch with 10-fold cross-validation optimizing for accuracy\n",
    "grid_search = GridSearchCV(\n",
    "    estimator= xgb_model,\n",
    "    param_grid=param_grid,\n",
    "    cv=10,\n",
    "    scoring= 'accuracy',\n",
    "    n_jobs=-1\n",
    ")\n",
    "\n",
    "# Fit the model to your data\n",
    "grid_search.fit(X_train, y_train)\n",
    "\n",
    "#Output best settings and best accuracy\n",
    "print(\"Best parameters:\", grid_search.best_params_)\n",
    "#print(\"Best cross-validation accuracy:\", grid_search.best_score_)"
   ]
  },
  {
   "cell_type": "code",
   "execution_count": 7,
   "id": "39931e16",
   "metadata": {},
   "outputs": [],
   "source": [
    "# retrain model\n",
    "xgb_model = XGBClassifier(\n",
    "    n_estimators=500,\n",
    "    eta = 0.05,\n",
    "    max_depth=20,\n",
    "    tree_method = \"hist\",\n",
    "    random_state=949\n",
    ")"
   ]
  },
  {
   "cell_type": "code",
   "execution_count": 8,
   "id": "71ac6dfd",
   "metadata": {},
   "outputs": [],
   "source": [
    "xgb_model.fit(X_train, y_train)\n",
    "\n",
    "# Predict\n",
    "y_train_pred = xgb_model.predict(X_train)\n",
    "y_test_pred = xgb_model.predict(X_test)"
   ]
  },
  {
   "cell_type": "code",
   "execution_count": 9,
   "id": "e59713d7",
   "metadata": {},
   "outputs": [
    {
     "name": "stdout",
     "output_type": "stream",
     "text": [
      "=== Training Set ===\n",
      "Overall Accuracy: 1.0\n",
      "\n",
      "=== Test Set ===\n",
      "Overall Accuracy: 0.9717514124293786\n",
      "Accuracy per phase (Train):\n",
      "true\n",
      "G0    1.0\n",
      "G1    1.0\n",
      "G2    1.0\n",
      "S     1.0\n",
      "dtype: float64\n",
      "\n",
      "Accuracy per phase (Test):\n",
      "true\n",
      "G0    0.975871\n",
      "G1    0.970032\n",
      "G2    0.962185\n",
      "S     0.975238\n",
      "dtype: float64\n",
      "\n",
      "Test Confusion Matrix\n",
      "[[364   7   2   0]\n",
      " [  2 615   3  14]\n",
      " [  0   0 229   9]\n",
      " [  0   6   7 512]]\n"
     ]
    },
    {
     "name": "stderr",
     "output_type": "stream",
     "text": [
      "/var/folders/1s/bvxr71hj0hqgyk_jk6k7wkm80000gn/T/ipykernel_72767/4154681254.py:15: FutureWarning: DataFrameGroupBy.apply operated on the grouping columns. This behavior is deprecated, and in a future version of pandas the grouping columns will be excluded from the operation. Either pass `include_groups=False` to exclude the groupings or explicitly select the grouping columns after groupby to silence this warning.\n",
      "  accuracy_per_phase_train = df_train.groupby('true').apply(lambda x: accuracy_score(x['true'], x['pred']))\n",
      "/var/folders/1s/bvxr71hj0hqgyk_jk6k7wkm80000gn/T/ipykernel_72767/4154681254.py:22: FutureWarning: DataFrameGroupBy.apply operated on the grouping columns. This behavior is deprecated, and in a future version of pandas the grouping columns will be excluded from the operation. Either pass `include_groups=False` to exclude the groupings or explicitly select the grouping columns after groupby to silence this warning.\n",
      "  accuracy_per_phase_test = df_test.groupby('true').apply(lambda x: accuracy_score(x['true'], x['pred']))\n"
     ]
    }
   ],
   "source": [
    "y_train_labels = le.inverse_transform(y_train)\n",
    "y_test_labels = le.inverse_transform(y_test)\n",
    "y_train_pred_labels = le.inverse_transform(y_train_pred)\n",
    "y_test_pred_labels = le.inverse_transform(y_test_pred)\n",
    "\n",
    "# Output results\n",
    "print(\"=== Training Set ===\")\n",
    "print(\"Overall Accuracy:\", accuracy_score(y_train_labels, y_train_pred_labels))\n",
    "\n",
    "print(\"\\n=== Test Set ===\")\n",
    "print(\"Overall Accuracy:\", accuracy_score(y_test_labels, y_test_pred_labels))\n",
    "\n",
    "# Accuracy per phase (Train)\n",
    "df_train = pd.DataFrame({'true': y_train_labels, 'pred': y_train_pred_labels})\n",
    "accuracy_per_phase_train = df_train.groupby('true').apply(lambda x: accuracy_score(x['true'], x['pred']))\n",
    "\n",
    "print(\"Accuracy per phase (Train):\")\n",
    "print(accuracy_per_phase_train)\n",
    "\n",
    "# Accuracy per phase (Test)\n",
    "df_test = pd.DataFrame({'true': y_test_labels, 'pred': y_test_pred_labels})\n",
    "accuracy_per_phase_test = df_test.groupby('true').apply(lambda x: accuracy_score(x['true'], x['pred']))\n",
    "\n",
    "print(\"\\nAccuracy per phase (Test):\")\n",
    "print(accuracy_per_phase_test)\n",
    "\n",
    "# Confusion Matrix\n",
    "print(\"\\nTest Confusion Matrix\")\n",
    "print(confusion_matrix(y_test_labels, y_test_pred_labels, labels=[\"G0\", \"G1\", \"G2\", \"S\"]))"
   ]
  }
 ],
 "metadata": {
  "kernelspec": {
   "display_name": "sklearn-env",
   "language": "python",
   "name": "python3"
  },
  "language_info": {
   "codemirror_mode": {
    "name": "ipython",
    "version": 3
   },
   "file_extension": ".py",
   "mimetype": "text/x-python",
   "name": "python",
   "nbconvert_exporter": "python",
   "pygments_lexer": "ipython3",
   "version": "3.12.7"
  }
 },
 "nbformat": 4,
 "nbformat_minor": 5
}
